{
 "cells": [
  {
   "cell_type": "markdown",
   "id": "7ae1313d",
   "metadata": {},
   "source": [
    "# Kaggle Titanic Competition"
   ]
  },
  {
   "cell_type": "markdown",
   "id": "7c505971",
   "metadata": {},
   "source": [
    "This notebook was created to complete the Kaggle Titanic competition. Full details can be found here - https://www.kaggle.com/competitions/titanic/overview"
   ]
  },
  {
   "cell_type": "markdown",
   "id": "70871a8b",
   "metadata": {},
   "source": [
    "This project was originally split across two notebooks, Preprocessing (notebook 1) and Machine Learning Model (notebook 2). These were combine into this final notebook for ease of viewing."
   ]
  },
  {
   "cell_type": "markdown",
   "id": "b8fd5209",
   "metadata": {},
   "source": [
    "# Preprocessing - Notebook 1"
   ]
  },
  {
   "cell_type": "markdown",
   "id": "aaeb1d38",
   "metadata": {},
   "source": [
    "## Reading the data"
   ]
  },
  {
   "cell_type": "code",
   "execution_count": 1,
   "id": "6ee8d94e",
   "metadata": {},
   "outputs": [],
   "source": [
    "# importing required modules\n",
    "import numpy as np\n",
    "import pandas as pd\n",
    "\n",
    "import matplotlib.pyplot as plt\n",
    "import seaborn as sns\n",
    "sns.set()"
   ]
  },
  {
   "cell_type": "code",
   "execution_count": 2,
   "id": "04319426",
   "metadata": {},
   "outputs": [
    {
     "data": {
      "text/html": [
       "<div>\n",
       "<style scoped>\n",
       "    .dataframe tbody tr th:only-of-type {\n",
       "        vertical-align: middle;\n",
       "    }\n",
       "\n",
       "    .dataframe tbody tr th {\n",
       "        vertical-align: top;\n",
       "    }\n",
       "\n",
       "    .dataframe thead th {\n",
       "        text-align: right;\n",
       "    }\n",
       "</style>\n",
       "<table border=\"1\" class=\"dataframe\">\n",
       "  <thead>\n",
       "    <tr style=\"text-align: right;\">\n",
       "      <th></th>\n",
       "      <th>Survived</th>\n",
       "      <th>Pclass</th>\n",
       "      <th>Name</th>\n",
       "      <th>Sex</th>\n",
       "      <th>Age</th>\n",
       "      <th>SibSp</th>\n",
       "      <th>Parch</th>\n",
       "      <th>Ticket</th>\n",
       "      <th>Fare</th>\n",
       "      <th>Cabin</th>\n",
       "      <th>Embarked</th>\n",
       "    </tr>\n",
       "    <tr>\n",
       "      <th>PassengerId</th>\n",
       "      <th></th>\n",
       "      <th></th>\n",
       "      <th></th>\n",
       "      <th></th>\n",
       "      <th></th>\n",
       "      <th></th>\n",
       "      <th></th>\n",
       "      <th></th>\n",
       "      <th></th>\n",
       "      <th></th>\n",
       "      <th></th>\n",
       "    </tr>\n",
       "  </thead>\n",
       "  <tbody>\n",
       "    <tr>\n",
       "      <th>1</th>\n",
       "      <td>0</td>\n",
       "      <td>3</td>\n",
       "      <td>Braund, Mr. Owen Harris</td>\n",
       "      <td>male</td>\n",
       "      <td>22.0</td>\n",
       "      <td>1</td>\n",
       "      <td>0</td>\n",
       "      <td>A/5 21171</td>\n",
       "      <td>7.2500</td>\n",
       "      <td>NaN</td>\n",
       "      <td>S</td>\n",
       "    </tr>\n",
       "    <tr>\n",
       "      <th>2</th>\n",
       "      <td>1</td>\n",
       "      <td>1</td>\n",
       "      <td>Cumings, Mrs. John Bradley (Florence Briggs Th...</td>\n",
       "      <td>female</td>\n",
       "      <td>38.0</td>\n",
       "      <td>1</td>\n",
       "      <td>0</td>\n",
       "      <td>PC 17599</td>\n",
       "      <td>71.2833</td>\n",
       "      <td>C85</td>\n",
       "      <td>C</td>\n",
       "    </tr>\n",
       "    <tr>\n",
       "      <th>3</th>\n",
       "      <td>1</td>\n",
       "      <td>3</td>\n",
       "      <td>Heikkinen, Miss. Laina</td>\n",
       "      <td>female</td>\n",
       "      <td>26.0</td>\n",
       "      <td>0</td>\n",
       "      <td>0</td>\n",
       "      <td>STON/O2. 3101282</td>\n",
       "      <td>7.9250</td>\n",
       "      <td>NaN</td>\n",
       "      <td>S</td>\n",
       "    </tr>\n",
       "    <tr>\n",
       "      <th>4</th>\n",
       "      <td>1</td>\n",
       "      <td>1</td>\n",
       "      <td>Futrelle, Mrs. Jacques Heath (Lily May Peel)</td>\n",
       "      <td>female</td>\n",
       "      <td>35.0</td>\n",
       "      <td>1</td>\n",
       "      <td>0</td>\n",
       "      <td>113803</td>\n",
       "      <td>53.1000</td>\n",
       "      <td>C123</td>\n",
       "      <td>S</td>\n",
       "    </tr>\n",
       "    <tr>\n",
       "      <th>5</th>\n",
       "      <td>0</td>\n",
       "      <td>3</td>\n",
       "      <td>Allen, Mr. William Henry</td>\n",
       "      <td>male</td>\n",
       "      <td>35.0</td>\n",
       "      <td>0</td>\n",
       "      <td>0</td>\n",
       "      <td>373450</td>\n",
       "      <td>8.0500</td>\n",
       "      <td>NaN</td>\n",
       "      <td>S</td>\n",
       "    </tr>\n",
       "  </tbody>\n",
       "</table>\n",
       "</div>"
      ],
      "text/plain": [
       "             Survived  Pclass  \\\n",
       "PassengerId                     \n",
       "1                   0       3   \n",
       "2                   1       1   \n",
       "3                   1       3   \n",
       "4                   1       1   \n",
       "5                   0       3   \n",
       "\n",
       "                                                          Name     Sex   Age  \\\n",
       "PassengerId                                                                    \n",
       "1                                      Braund, Mr. Owen Harris    male  22.0   \n",
       "2            Cumings, Mrs. John Bradley (Florence Briggs Th...  female  38.0   \n",
       "3                                       Heikkinen, Miss. Laina  female  26.0   \n",
       "4                 Futrelle, Mrs. Jacques Heath (Lily May Peel)  female  35.0   \n",
       "5                                     Allen, Mr. William Henry    male  35.0   \n",
       "\n",
       "             SibSp  Parch            Ticket     Fare Cabin Embarked  \n",
       "PassengerId                                                          \n",
       "1                1      0         A/5 21171   7.2500   NaN        S  \n",
       "2                1      0          PC 17599  71.2833   C85        C  \n",
       "3                0      0  STON/O2. 3101282   7.9250   NaN        S  \n",
       "4                1      0            113803  53.1000  C123        S  \n",
       "5                0      0            373450   8.0500   NaN        S  "
      ]
     },
     "execution_count": 2,
     "metadata": {},
     "output_type": "execute_result"
    }
   ],
   "source": [
    "# reading raw train data\n",
    "raw_data_train = pd.read_csv('train.csv', index_col= 'PassengerId')\n",
    "raw_data_train.head()"
   ]
  },
  {
   "cell_type": "code",
   "execution_count": 3,
   "id": "928a0a59",
   "metadata": {},
   "outputs": [
    {
     "data": {
      "text/plain": [
       "PassengerId\n",
       "1      0\n",
       "2      1\n",
       "3      1\n",
       "4      1\n",
       "5      0\n",
       "      ..\n",
       "887    0\n",
       "888    1\n",
       "889    0\n",
       "890    1\n",
       "891    0\n",
       "Name: Survived, Length: 891, dtype: int64"
      ]
     },
     "execution_count": 3,
     "metadata": {},
     "output_type": "execute_result"
    }
   ],
   "source": [
    "# extracting train targets\n",
    "train_targets = raw_data_train['Survived']\n",
    "train_targets"
   ]
  },
  {
   "cell_type": "code",
   "execution_count": 4,
   "id": "6fa98bf9",
   "metadata": {},
   "outputs": [],
   "source": [
    "# dropping 'Survived' as not needed in dataset for preprocessing\n",
    "raw_data_train.drop('Survived', axis = 1, inplace = True)"
   ]
  },
  {
   "cell_type": "code",
   "execution_count": 5,
   "id": "848bf4eb",
   "metadata": {},
   "outputs": [
    {
     "data": {
      "text/html": [
       "<div>\n",
       "<style scoped>\n",
       "    .dataframe tbody tr th:only-of-type {\n",
       "        vertical-align: middle;\n",
       "    }\n",
       "\n",
       "    .dataframe tbody tr th {\n",
       "        vertical-align: top;\n",
       "    }\n",
       "\n",
       "    .dataframe thead th {\n",
       "        text-align: right;\n",
       "    }\n",
       "</style>\n",
       "<table border=\"1\" class=\"dataframe\">\n",
       "  <thead>\n",
       "    <tr style=\"text-align: right;\">\n",
       "      <th></th>\n",
       "      <th>Pclass</th>\n",
       "      <th>Name</th>\n",
       "      <th>Sex</th>\n",
       "      <th>Age</th>\n",
       "      <th>SibSp</th>\n",
       "      <th>Parch</th>\n",
       "      <th>Ticket</th>\n",
       "      <th>Fare</th>\n",
       "      <th>Cabin</th>\n",
       "      <th>Embarked</th>\n",
       "    </tr>\n",
       "    <tr>\n",
       "      <th>PassengerId</th>\n",
       "      <th></th>\n",
       "      <th></th>\n",
       "      <th></th>\n",
       "      <th></th>\n",
       "      <th></th>\n",
       "      <th></th>\n",
       "      <th></th>\n",
       "      <th></th>\n",
       "      <th></th>\n",
       "      <th></th>\n",
       "    </tr>\n",
       "  </thead>\n",
       "  <tbody>\n",
       "    <tr>\n",
       "      <th>892</th>\n",
       "      <td>3</td>\n",
       "      <td>Kelly, Mr. James</td>\n",
       "      <td>male</td>\n",
       "      <td>34.5</td>\n",
       "      <td>0</td>\n",
       "      <td>0</td>\n",
       "      <td>330911</td>\n",
       "      <td>7.8292</td>\n",
       "      <td>NaN</td>\n",
       "      <td>Q</td>\n",
       "    </tr>\n",
       "    <tr>\n",
       "      <th>893</th>\n",
       "      <td>3</td>\n",
       "      <td>Wilkes, Mrs. James (Ellen Needs)</td>\n",
       "      <td>female</td>\n",
       "      <td>47.0</td>\n",
       "      <td>1</td>\n",
       "      <td>0</td>\n",
       "      <td>363272</td>\n",
       "      <td>7.0000</td>\n",
       "      <td>NaN</td>\n",
       "      <td>S</td>\n",
       "    </tr>\n",
       "    <tr>\n",
       "      <th>894</th>\n",
       "      <td>2</td>\n",
       "      <td>Myles, Mr. Thomas Francis</td>\n",
       "      <td>male</td>\n",
       "      <td>62.0</td>\n",
       "      <td>0</td>\n",
       "      <td>0</td>\n",
       "      <td>240276</td>\n",
       "      <td>9.6875</td>\n",
       "      <td>NaN</td>\n",
       "      <td>Q</td>\n",
       "    </tr>\n",
       "    <tr>\n",
       "      <th>895</th>\n",
       "      <td>3</td>\n",
       "      <td>Wirz, Mr. Albert</td>\n",
       "      <td>male</td>\n",
       "      <td>27.0</td>\n",
       "      <td>0</td>\n",
       "      <td>0</td>\n",
       "      <td>315154</td>\n",
       "      <td>8.6625</td>\n",
       "      <td>NaN</td>\n",
       "      <td>S</td>\n",
       "    </tr>\n",
       "    <tr>\n",
       "      <th>896</th>\n",
       "      <td>3</td>\n",
       "      <td>Hirvonen, Mrs. Alexander (Helga E Lindqvist)</td>\n",
       "      <td>female</td>\n",
       "      <td>22.0</td>\n",
       "      <td>1</td>\n",
       "      <td>1</td>\n",
       "      <td>3101298</td>\n",
       "      <td>12.2875</td>\n",
       "      <td>NaN</td>\n",
       "      <td>S</td>\n",
       "    </tr>\n",
       "  </tbody>\n",
       "</table>\n",
       "</div>"
      ],
      "text/plain": [
       "             Pclass                                          Name     Sex  \\\n",
       "PassengerId                                                                 \n",
       "892               3                              Kelly, Mr. James    male   \n",
       "893               3              Wilkes, Mrs. James (Ellen Needs)  female   \n",
       "894               2                     Myles, Mr. Thomas Francis    male   \n",
       "895               3                              Wirz, Mr. Albert    male   \n",
       "896               3  Hirvonen, Mrs. Alexander (Helga E Lindqvist)  female   \n",
       "\n",
       "              Age  SibSp  Parch   Ticket     Fare Cabin Embarked  \n",
       "PassengerId                                                       \n",
       "892          34.5      0      0   330911   7.8292   NaN        Q  \n",
       "893          47.0      1      0   363272   7.0000   NaN        S  \n",
       "894          62.0      0      0   240276   9.6875   NaN        Q  \n",
       "895          27.0      0      0   315154   8.6625   NaN        S  \n",
       "896          22.0      1      1  3101298  12.2875   NaN        S  "
      ]
     },
     "execution_count": 5,
     "metadata": {},
     "output_type": "execute_result"
    }
   ],
   "source": [
    "# reading raw test data\n",
    "raw_data_test = pd.read_csv('test.csv', index_col = 'PassengerId')\n",
    "raw_data_test.head()"
   ]
  },
  {
   "cell_type": "code",
   "execution_count": 6,
   "id": "fe7fb4ef",
   "metadata": {},
   "outputs": [
    {
     "data": {
      "text/plain": [
       "Int64Index([ 892,  893,  894,  895,  896,  897,  898,  899,  900,  901,\n",
       "            ...\n",
       "            1300, 1301, 1302, 1303, 1304, 1305, 1306, 1307, 1308, 1309],\n",
       "           dtype='int64', name='PassengerId', length=418)"
      ]
     },
     "execution_count": 6,
     "metadata": {},
     "output_type": "execute_result"
    }
   ],
   "source": [
    "# keep reference to test index for use when splitting dataset later\n",
    "test_index = raw_data_test.index\n",
    "test_index"
   ]
  },
  {
   "cell_type": "code",
   "execution_count": 7,
   "id": "f32c3755",
   "metadata": {},
   "outputs": [],
   "source": [
    "# concat both raw train and test data for preprocessing\n",
    "raw_data_combined = pd.concat([raw_data_train, raw_data_test])"
   ]
  },
  {
   "cell_type": "code",
   "execution_count": 8,
   "id": "4aec905f",
   "metadata": {},
   "outputs": [
    {
     "data": {
      "text/html": [
       "<div>\n",
       "<style scoped>\n",
       "    .dataframe tbody tr th:only-of-type {\n",
       "        vertical-align: middle;\n",
       "    }\n",
       "\n",
       "    .dataframe tbody tr th {\n",
       "        vertical-align: top;\n",
       "    }\n",
       "\n",
       "    .dataframe thead th {\n",
       "        text-align: right;\n",
       "    }\n",
       "</style>\n",
       "<table border=\"1\" class=\"dataframe\">\n",
       "  <thead>\n",
       "    <tr style=\"text-align: right;\">\n",
       "      <th></th>\n",
       "      <th>Pclass</th>\n",
       "      <th>Name</th>\n",
       "      <th>Sex</th>\n",
       "      <th>Age</th>\n",
       "      <th>SibSp</th>\n",
       "      <th>Parch</th>\n",
       "      <th>Ticket</th>\n",
       "      <th>Fare</th>\n",
       "      <th>Cabin</th>\n",
       "      <th>Embarked</th>\n",
       "    </tr>\n",
       "    <tr>\n",
       "      <th>PassengerId</th>\n",
       "      <th></th>\n",
       "      <th></th>\n",
       "      <th></th>\n",
       "      <th></th>\n",
       "      <th></th>\n",
       "      <th></th>\n",
       "      <th></th>\n",
       "      <th></th>\n",
       "      <th></th>\n",
       "      <th></th>\n",
       "    </tr>\n",
       "  </thead>\n",
       "  <tbody>\n",
       "    <tr>\n",
       "      <th>1</th>\n",
       "      <td>3</td>\n",
       "      <td>Braund, Mr. Owen Harris</td>\n",
       "      <td>male</td>\n",
       "      <td>22.0</td>\n",
       "      <td>1</td>\n",
       "      <td>0</td>\n",
       "      <td>A/5 21171</td>\n",
       "      <td>7.2500</td>\n",
       "      <td>NaN</td>\n",
       "      <td>S</td>\n",
       "    </tr>\n",
       "    <tr>\n",
       "      <th>2</th>\n",
       "      <td>1</td>\n",
       "      <td>Cumings, Mrs. John Bradley (Florence Briggs Th...</td>\n",
       "      <td>female</td>\n",
       "      <td>38.0</td>\n",
       "      <td>1</td>\n",
       "      <td>0</td>\n",
       "      <td>PC 17599</td>\n",
       "      <td>71.2833</td>\n",
       "      <td>C85</td>\n",
       "      <td>C</td>\n",
       "    </tr>\n",
       "    <tr>\n",
       "      <th>3</th>\n",
       "      <td>3</td>\n",
       "      <td>Heikkinen, Miss. Laina</td>\n",
       "      <td>female</td>\n",
       "      <td>26.0</td>\n",
       "      <td>0</td>\n",
       "      <td>0</td>\n",
       "      <td>STON/O2. 3101282</td>\n",
       "      <td>7.9250</td>\n",
       "      <td>NaN</td>\n",
       "      <td>S</td>\n",
       "    </tr>\n",
       "    <tr>\n",
       "      <th>4</th>\n",
       "      <td>1</td>\n",
       "      <td>Futrelle, Mrs. Jacques Heath (Lily May Peel)</td>\n",
       "      <td>female</td>\n",
       "      <td>35.0</td>\n",
       "      <td>1</td>\n",
       "      <td>0</td>\n",
       "      <td>113803</td>\n",
       "      <td>53.1000</td>\n",
       "      <td>C123</td>\n",
       "      <td>S</td>\n",
       "    </tr>\n",
       "    <tr>\n",
       "      <th>5</th>\n",
       "      <td>3</td>\n",
       "      <td>Allen, Mr. William Henry</td>\n",
       "      <td>male</td>\n",
       "      <td>35.0</td>\n",
       "      <td>0</td>\n",
       "      <td>0</td>\n",
       "      <td>373450</td>\n",
       "      <td>8.0500</td>\n",
       "      <td>NaN</td>\n",
       "      <td>S</td>\n",
       "    </tr>\n",
       "    <tr>\n",
       "      <th>...</th>\n",
       "      <td>...</td>\n",
       "      <td>...</td>\n",
       "      <td>...</td>\n",
       "      <td>...</td>\n",
       "      <td>...</td>\n",
       "      <td>...</td>\n",
       "      <td>...</td>\n",
       "      <td>...</td>\n",
       "      <td>...</td>\n",
       "      <td>...</td>\n",
       "    </tr>\n",
       "    <tr>\n",
       "      <th>1305</th>\n",
       "      <td>3</td>\n",
       "      <td>Spector, Mr. Woolf</td>\n",
       "      <td>male</td>\n",
       "      <td>NaN</td>\n",
       "      <td>0</td>\n",
       "      <td>0</td>\n",
       "      <td>A.5. 3236</td>\n",
       "      <td>8.0500</td>\n",
       "      <td>NaN</td>\n",
       "      <td>S</td>\n",
       "    </tr>\n",
       "    <tr>\n",
       "      <th>1306</th>\n",
       "      <td>1</td>\n",
       "      <td>Oliva y Ocana, Dona. Fermina</td>\n",
       "      <td>female</td>\n",
       "      <td>39.0</td>\n",
       "      <td>0</td>\n",
       "      <td>0</td>\n",
       "      <td>PC 17758</td>\n",
       "      <td>108.9000</td>\n",
       "      <td>C105</td>\n",
       "      <td>C</td>\n",
       "    </tr>\n",
       "    <tr>\n",
       "      <th>1307</th>\n",
       "      <td>3</td>\n",
       "      <td>Saether, Mr. Simon Sivertsen</td>\n",
       "      <td>male</td>\n",
       "      <td>38.5</td>\n",
       "      <td>0</td>\n",
       "      <td>0</td>\n",
       "      <td>SOTON/O.Q. 3101262</td>\n",
       "      <td>7.2500</td>\n",
       "      <td>NaN</td>\n",
       "      <td>S</td>\n",
       "    </tr>\n",
       "    <tr>\n",
       "      <th>1308</th>\n",
       "      <td>3</td>\n",
       "      <td>Ware, Mr. Frederick</td>\n",
       "      <td>male</td>\n",
       "      <td>NaN</td>\n",
       "      <td>0</td>\n",
       "      <td>0</td>\n",
       "      <td>359309</td>\n",
       "      <td>8.0500</td>\n",
       "      <td>NaN</td>\n",
       "      <td>S</td>\n",
       "    </tr>\n",
       "    <tr>\n",
       "      <th>1309</th>\n",
       "      <td>3</td>\n",
       "      <td>Peter, Master. Michael J</td>\n",
       "      <td>male</td>\n",
       "      <td>NaN</td>\n",
       "      <td>1</td>\n",
       "      <td>1</td>\n",
       "      <td>2668</td>\n",
       "      <td>22.3583</td>\n",
       "      <td>NaN</td>\n",
       "      <td>C</td>\n",
       "    </tr>\n",
       "  </tbody>\n",
       "</table>\n",
       "<p>1309 rows × 10 columns</p>\n",
       "</div>"
      ],
      "text/plain": [
       "             Pclass                                               Name  \\\n",
       "PassengerId                                                              \n",
       "1                 3                            Braund, Mr. Owen Harris   \n",
       "2                 1  Cumings, Mrs. John Bradley (Florence Briggs Th...   \n",
       "3                 3                             Heikkinen, Miss. Laina   \n",
       "4                 1       Futrelle, Mrs. Jacques Heath (Lily May Peel)   \n",
       "5                 3                           Allen, Mr. William Henry   \n",
       "...             ...                                                ...   \n",
       "1305              3                                 Spector, Mr. Woolf   \n",
       "1306              1                       Oliva y Ocana, Dona. Fermina   \n",
       "1307              3                       Saether, Mr. Simon Sivertsen   \n",
       "1308              3                                Ware, Mr. Frederick   \n",
       "1309              3                           Peter, Master. Michael J   \n",
       "\n",
       "                Sex   Age  SibSp  Parch              Ticket      Fare Cabin  \\\n",
       "PassengerId                                                                   \n",
       "1              male  22.0      1      0           A/5 21171    7.2500   NaN   \n",
       "2            female  38.0      1      0            PC 17599   71.2833   C85   \n",
       "3            female  26.0      0      0    STON/O2. 3101282    7.9250   NaN   \n",
       "4            female  35.0      1      0              113803   53.1000  C123   \n",
       "5              male  35.0      0      0              373450    8.0500   NaN   \n",
       "...             ...   ...    ...    ...                 ...       ...   ...   \n",
       "1305           male   NaN      0      0           A.5. 3236    8.0500   NaN   \n",
       "1306         female  39.0      0      0            PC 17758  108.9000  C105   \n",
       "1307           male  38.5      0      0  SOTON/O.Q. 3101262    7.2500   NaN   \n",
       "1308           male   NaN      0      0              359309    8.0500   NaN   \n",
       "1309           male   NaN      1      1                2668   22.3583   NaN   \n",
       "\n",
       "            Embarked  \n",
       "PassengerId           \n",
       "1                  S  \n",
       "2                  C  \n",
       "3                  S  \n",
       "4                  S  \n",
       "5                  S  \n",
       "...              ...  \n",
       "1305               S  \n",
       "1306               C  \n",
       "1307               S  \n",
       "1308               S  \n",
       "1309               C  \n",
       "\n",
       "[1309 rows x 10 columns]"
      ]
     },
     "execution_count": 8,
     "metadata": {},
     "output_type": "execute_result"
    }
   ],
   "source": [
    "# making copy of combined raw data\n",
    "data = raw_data_combined.copy()\n",
    "data"
   ]
  },
  {
   "cell_type": "markdown",
   "id": "88e4a037",
   "metadata": {},
   "source": [
    "## Exploring and cleaning the data"
   ]
  },
  {
   "cell_type": "code",
   "execution_count": 9,
   "id": "9858ba59",
   "metadata": {},
   "outputs": [
    {
     "data": {
      "text/html": [
       "<div>\n",
       "<style scoped>\n",
       "    .dataframe tbody tr th:only-of-type {\n",
       "        vertical-align: middle;\n",
       "    }\n",
       "\n",
       "    .dataframe tbody tr th {\n",
       "        vertical-align: top;\n",
       "    }\n",
       "\n",
       "    .dataframe thead th {\n",
       "        text-align: right;\n",
       "    }\n",
       "</style>\n",
       "<table border=\"1\" class=\"dataframe\">\n",
       "  <thead>\n",
       "    <tr style=\"text-align: right;\">\n",
       "      <th></th>\n",
       "      <th>Pclass</th>\n",
       "      <th>Name</th>\n",
       "      <th>Sex</th>\n",
       "      <th>Age</th>\n",
       "      <th>SibSp</th>\n",
       "      <th>Parch</th>\n",
       "      <th>Ticket</th>\n",
       "      <th>Fare</th>\n",
       "      <th>Cabin</th>\n",
       "      <th>Embarked</th>\n",
       "    </tr>\n",
       "  </thead>\n",
       "  <tbody>\n",
       "    <tr>\n",
       "      <th>count</th>\n",
       "      <td>1309.000000</td>\n",
       "      <td>1309</td>\n",
       "      <td>1309</td>\n",
       "      <td>1046.000000</td>\n",
       "      <td>1309.000000</td>\n",
       "      <td>1309.000000</td>\n",
       "      <td>1309</td>\n",
       "      <td>1308.000000</td>\n",
       "      <td>295</td>\n",
       "      <td>1307</td>\n",
       "    </tr>\n",
       "    <tr>\n",
       "      <th>unique</th>\n",
       "      <td>NaN</td>\n",
       "      <td>1307</td>\n",
       "      <td>2</td>\n",
       "      <td>NaN</td>\n",
       "      <td>NaN</td>\n",
       "      <td>NaN</td>\n",
       "      <td>929</td>\n",
       "      <td>NaN</td>\n",
       "      <td>186</td>\n",
       "      <td>3</td>\n",
       "    </tr>\n",
       "    <tr>\n",
       "      <th>top</th>\n",
       "      <td>NaN</td>\n",
       "      <td>Connolly, Miss. Kate</td>\n",
       "      <td>male</td>\n",
       "      <td>NaN</td>\n",
       "      <td>NaN</td>\n",
       "      <td>NaN</td>\n",
       "      <td>CA. 2343</td>\n",
       "      <td>NaN</td>\n",
       "      <td>C23 C25 C27</td>\n",
       "      <td>S</td>\n",
       "    </tr>\n",
       "    <tr>\n",
       "      <th>freq</th>\n",
       "      <td>NaN</td>\n",
       "      <td>2</td>\n",
       "      <td>843</td>\n",
       "      <td>NaN</td>\n",
       "      <td>NaN</td>\n",
       "      <td>NaN</td>\n",
       "      <td>11</td>\n",
       "      <td>NaN</td>\n",
       "      <td>6</td>\n",
       "      <td>914</td>\n",
       "    </tr>\n",
       "    <tr>\n",
       "      <th>mean</th>\n",
       "      <td>2.294882</td>\n",
       "      <td>NaN</td>\n",
       "      <td>NaN</td>\n",
       "      <td>29.881138</td>\n",
       "      <td>0.498854</td>\n",
       "      <td>0.385027</td>\n",
       "      <td>NaN</td>\n",
       "      <td>33.295479</td>\n",
       "      <td>NaN</td>\n",
       "      <td>NaN</td>\n",
       "    </tr>\n",
       "    <tr>\n",
       "      <th>std</th>\n",
       "      <td>0.837836</td>\n",
       "      <td>NaN</td>\n",
       "      <td>NaN</td>\n",
       "      <td>14.413493</td>\n",
       "      <td>1.041658</td>\n",
       "      <td>0.865560</td>\n",
       "      <td>NaN</td>\n",
       "      <td>51.758668</td>\n",
       "      <td>NaN</td>\n",
       "      <td>NaN</td>\n",
       "    </tr>\n",
       "    <tr>\n",
       "      <th>min</th>\n",
       "      <td>1.000000</td>\n",
       "      <td>NaN</td>\n",
       "      <td>NaN</td>\n",
       "      <td>0.170000</td>\n",
       "      <td>0.000000</td>\n",
       "      <td>0.000000</td>\n",
       "      <td>NaN</td>\n",
       "      <td>0.000000</td>\n",
       "      <td>NaN</td>\n",
       "      <td>NaN</td>\n",
       "    </tr>\n",
       "    <tr>\n",
       "      <th>25%</th>\n",
       "      <td>2.000000</td>\n",
       "      <td>NaN</td>\n",
       "      <td>NaN</td>\n",
       "      <td>21.000000</td>\n",
       "      <td>0.000000</td>\n",
       "      <td>0.000000</td>\n",
       "      <td>NaN</td>\n",
       "      <td>7.895800</td>\n",
       "      <td>NaN</td>\n",
       "      <td>NaN</td>\n",
       "    </tr>\n",
       "    <tr>\n",
       "      <th>50%</th>\n",
       "      <td>3.000000</td>\n",
       "      <td>NaN</td>\n",
       "      <td>NaN</td>\n",
       "      <td>28.000000</td>\n",
       "      <td>0.000000</td>\n",
       "      <td>0.000000</td>\n",
       "      <td>NaN</td>\n",
       "      <td>14.454200</td>\n",
       "      <td>NaN</td>\n",
       "      <td>NaN</td>\n",
       "    </tr>\n",
       "    <tr>\n",
       "      <th>75%</th>\n",
       "      <td>3.000000</td>\n",
       "      <td>NaN</td>\n",
       "      <td>NaN</td>\n",
       "      <td>39.000000</td>\n",
       "      <td>1.000000</td>\n",
       "      <td>0.000000</td>\n",
       "      <td>NaN</td>\n",
       "      <td>31.275000</td>\n",
       "      <td>NaN</td>\n",
       "      <td>NaN</td>\n",
       "    </tr>\n",
       "    <tr>\n",
       "      <th>max</th>\n",
       "      <td>3.000000</td>\n",
       "      <td>NaN</td>\n",
       "      <td>NaN</td>\n",
       "      <td>80.000000</td>\n",
       "      <td>8.000000</td>\n",
       "      <td>9.000000</td>\n",
       "      <td>NaN</td>\n",
       "      <td>512.329200</td>\n",
       "      <td>NaN</td>\n",
       "      <td>NaN</td>\n",
       "    </tr>\n",
       "  </tbody>\n",
       "</table>\n",
       "</div>"
      ],
      "text/plain": [
       "             Pclass                  Name   Sex          Age        SibSp  \\\n",
       "count   1309.000000                  1309  1309  1046.000000  1309.000000   \n",
       "unique          NaN                  1307     2          NaN          NaN   \n",
       "top             NaN  Connolly, Miss. Kate  male          NaN          NaN   \n",
       "freq            NaN                     2   843          NaN          NaN   \n",
       "mean       2.294882                   NaN   NaN    29.881138     0.498854   \n",
       "std        0.837836                   NaN   NaN    14.413493     1.041658   \n",
       "min        1.000000                   NaN   NaN     0.170000     0.000000   \n",
       "25%        2.000000                   NaN   NaN    21.000000     0.000000   \n",
       "50%        3.000000                   NaN   NaN    28.000000     0.000000   \n",
       "75%        3.000000                   NaN   NaN    39.000000     1.000000   \n",
       "max        3.000000                   NaN   NaN    80.000000     8.000000   \n",
       "\n",
       "              Parch    Ticket         Fare        Cabin Embarked  \n",
       "count   1309.000000      1309  1308.000000          295     1307  \n",
       "unique          NaN       929          NaN          186        3  \n",
       "top             NaN  CA. 2343          NaN  C23 C25 C27        S  \n",
       "freq            NaN        11          NaN            6      914  \n",
       "mean       0.385027       NaN    33.295479          NaN      NaN  \n",
       "std        0.865560       NaN    51.758668          NaN      NaN  \n",
       "min        0.000000       NaN     0.000000          NaN      NaN  \n",
       "25%        0.000000       NaN     7.895800          NaN      NaN  \n",
       "50%        0.000000       NaN    14.454200          NaN      NaN  \n",
       "75%        0.000000       NaN    31.275000          NaN      NaN  \n",
       "max        9.000000       NaN   512.329200          NaN      NaN  "
      ]
     },
     "execution_count": 9,
     "metadata": {},
     "output_type": "execute_result"
    }
   ],
   "source": [
    "# getting descriptive statistics of dataset\n",
    "data.describe(include = 'all')"
   ]
  },
  {
   "cell_type": "code",
   "execution_count": 10,
   "id": "501db931",
   "metadata": {},
   "outputs": [
    {
     "data": {
      "text/plain": [
       "Pclass         0\n",
       "Name           0\n",
       "Sex            0\n",
       "Age          263\n",
       "SibSp          0\n",
       "Parch          0\n",
       "Ticket         0\n",
       "Fare           1\n",
       "Cabin       1014\n",
       "Embarked       2\n",
       "dtype: int64"
      ]
     },
     "execution_count": 10,
     "metadata": {},
     "output_type": "execute_result"
    }
   ],
   "source": [
    "# there are a multiple columns with null values, there are to dealt with\n",
    "data.isnull().sum()"
   ]
  },
  {
   "cell_type": "markdown",
   "id": "0e46925d",
   "metadata": {},
   "source": [
    "### Pclass"
   ]
  },
  {
   "cell_type": "code",
   "execution_count": 11,
   "id": "3a5b47d7",
   "metadata": {},
   "outputs": [
    {
     "data": {
      "text/plain": [
       "0"
      ]
     },
     "execution_count": 11,
     "metadata": {},
     "output_type": "execute_result"
    }
   ],
   "source": [
    "# no null values in this column\n",
    "data['Pclass'].isnull().sum()"
   ]
  },
  {
   "cell_type": "code",
   "execution_count": 12,
   "id": "33a70360",
   "metadata": {},
   "outputs": [
    {
     "data": {
      "text/plain": [
       "PassengerId\n",
       "1    3\n",
       "2    1\n",
       "3    3\n",
       "4    1\n",
       "5    3\n",
       "Name: Pclass, dtype: int64"
      ]
     },
     "execution_count": 12,
     "metadata": {},
     "output_type": "execute_result"
    }
   ],
   "source": [
    "# classes represented by numbers\n",
    "data['Pclass'].head()"
   ]
  },
  {
   "cell_type": "code",
   "execution_count": 13,
   "id": "95a6c33d",
   "metadata": {},
   "outputs": [],
   "source": [
    "# converting class numbers to text to help with making dummy variables at a later date\n",
    "def passenger_class_text(x):\n",
    "    if x == 1:\n",
    "        x = 'First'\n",
    "        return x\n",
    "    elif x == 2:\n",
    "        x = 'Second'\n",
    "        return x\n",
    "    else:\n",
    "        x = 'Third'\n",
    "        return x"
   ]
  },
  {
   "cell_type": "code",
   "execution_count": 14,
   "id": "2ff4ee81",
   "metadata": {},
   "outputs": [],
   "source": [
    "data['Pclass'] = data['Pclass'].apply(lambda x : passenger_class_text(x))"
   ]
  },
  {
   "cell_type": "code",
   "execution_count": 15,
   "id": "fae2db86",
   "metadata": {},
   "outputs": [
    {
     "data": {
      "text/plain": [
       "PassengerId\n",
       "1    Third\n",
       "2    First\n",
       "3    Third\n",
       "4    First\n",
       "5    Third\n",
       "Name: Pclass, dtype: object"
      ]
     },
     "execution_count": 15,
     "metadata": {},
     "output_type": "execute_result"
    }
   ],
   "source": [
    "# result of applying the function\n",
    "data['Pclass'].head()"
   ]
  },
  {
   "cell_type": "code",
   "execution_count": 16,
   "id": "081b5e2e",
   "metadata": {},
   "outputs": [
    {
     "data": {
      "text/plain": [
       "<AxesSubplot:ylabel='Pclass'>"
      ]
     },
     "execution_count": 16,
     "metadata": {},
     "output_type": "execute_result"
    },
    {
     "data": {
      "image/png": "[encoded data removed]",
      "text/plain": [
       "<Figure size 640x480 with 1 Axes>"
      ]
     },
     "metadata": {},
     "output_type": "display_data"
    }
   ],
   "source": [
    "# graph showing the distribution of Pclass across the dataset\n",
    "sns.barplot(x = data['Pclass'].unique(),\n",
    "            y = data['Pclass'].value_counts())"
   ]
  },
  {
   "cell_type": "markdown",
   "id": "4991d976",
   "metadata": {},
   "source": [
    "### Name"
   ]
  },
  {
   "cell_type": "code",
   "execution_count": 17,
   "id": "0cd7947f",
   "metadata": {},
   "outputs": [
    {
     "data": {
      "text/plain": [
       "1307"
      ]
     },
     "execution_count": 17,
     "metadata": {},
     "output_type": "execute_result"
    }
   ],
   "source": [
    "# high number of unique names\n",
    "data['Name'].nunique()"
   ]
  },
  {
   "cell_type": "code",
   "execution_count": 18,
   "id": "5453ceb8",
   "metadata": {},
   "outputs": [],
   "source": [
    "# name column dropped due to high number of unique names\n",
    "data.drop('Name', axis = 1, inplace = True)"
   ]
  },
  {
   "cell_type": "markdown",
   "id": "68cc6628",
   "metadata": {},
   "source": [
    "### Sex"
   ]
  },
  {
   "cell_type": "code",
   "execution_count": 19,
   "id": "f53f909a",
   "metadata": {},
   "outputs": [
    {
     "data": {
      "text/plain": [
       "0"
      ]
     },
     "execution_count": 19,
     "metadata": {},
     "output_type": "execute_result"
    }
   ],
   "source": [
    "# no unique values\n",
    "data['Sex'].isnull().sum()"
   ]
  },
  {
   "cell_type": "code",
   "execution_count": 20,
   "id": "af3ee96b",
   "metadata": {},
   "outputs": [
    {
     "data": {
      "text/plain": [
       "<AxesSubplot:ylabel='Sex'>"
      ]
     },
     "execution_count": 20,
     "metadata": {},
     "output_type": "execute_result"
    },
    {
     "data": {
      "image/png": "[encoded data removed]",
      "text/plain": [
       "<Figure size 640x480 with 1 Axes>"
      ]
     },
     "metadata": {},
     "output_type": "display_data"
    }
   ],
   "source": [
    "# graph showing the distribution of sex across the dataset\n",
    "sns.barplot(x = data['Sex'].unique(),\n",
    "            y = data['Sex'].value_counts())"
   ]
  },
  {
   "cell_type": "markdown",
   "id": "d16aa6c7",
   "metadata": {},
   "source": [
    "### Age"
   ]
  },
  {
   "cell_type": "code",
   "execution_count": 21,
   "id": "6940c087",
   "metadata": {},
   "outputs": [
    {
     "data": {
      "text/plain": [
       "263"
      ]
     },
     "execution_count": 21,
     "metadata": {},
     "output_type": "execute_result"
    }
   ],
   "source": [
    "# large number of null values\n",
    "data['Age'].isnull().sum()"
   ]
  },
  {
   "cell_type": "code",
   "execution_count": 22,
   "id": "f571d1c0",
   "metadata": {},
   "outputs": [
    {
     "data": {
      "text/plain": [
       "29.881137667304014"
      ]
     },
     "execution_count": 22,
     "metadata": {},
     "output_type": "execute_result"
    }
   ],
   "source": [
    "# calculating the mean age of the datset set\n",
    "mean_age = data['Age'].mean()\n",
    "mean_age"
   ]
  },
  {
   "cell_type": "code",
   "execution_count": 23,
   "id": "09cca721",
   "metadata": {},
   "outputs": [],
   "source": [
    "# filling na values with mean age\n",
    "data['Age'] = data['Age'].fillna(mean_age)"
   ]
  },
  {
   "cell_type": "code",
   "execution_count": 24,
   "id": "5c843309",
   "metadata": {},
   "outputs": [
    {
     "data": {
      "text/plain": [
       "<seaborn.axisgrid.FacetGrid at 0x2646f7bba08>"
      ]
     },
     "execution_count": 24,
     "metadata": {},
     "output_type": "execute_result"
    },
    {
     "data": {
      "image/png": "[encoded data removed]",
      "text/plain": [
       "<Figure size 500x500 with 1 Axes>"
      ]
     },
     "metadata": {},
     "output_type": "display_data"
    }
   ],
   "source": [
    "# graph showing the distribution of ages across the dataset\n",
    "sns.displot(data['Age'])"
   ]
  },
  {
   "cell_type": "markdown",
   "id": "39d17396",
   "metadata": {},
   "source": [
    "### SibSp"
   ]
  },
  {
   "cell_type": "code",
   "execution_count": 25,
   "id": "31f28e46",
   "metadata": {},
   "outputs": [
    {
     "data": {
      "text/plain": [
       "0"
      ]
     },
     "execution_count": 25,
     "metadata": {},
     "output_type": "execute_result"
    }
   ],
   "source": [
    "# no null values in this column\n",
    "data['SibSp'].isnull().sum()"
   ]
  },
  {
   "cell_type": "code",
   "execution_count": 26,
   "id": "e0ef96fe",
   "metadata": {},
   "outputs": [
    {
     "data": {
      "text/plain": [
       "<AxesSubplot:ylabel='SibSp'>"
      ]
     },
     "execution_count": 26,
     "metadata": {},
     "output_type": "execute_result"
    },
    {
     "data": {
      "image/png": "[encoded data removed]",
      "text/plain": [
       "<Figure size 640x480 with 1 Axes>"
      ]
     },
     "metadata": {},
     "output_type": "display_data"
    }
   ],
   "source": [
    "# graph showing the distribution of SibSp across the dataset\n",
    "sns.barplot(x = data['SibSp'].unique(),\n",
    "            y = data['SibSp'].value_counts())"
   ]
  },
  {
   "cell_type": "markdown",
   "id": "8fe51619",
   "metadata": {},
   "source": [
    "### Parch"
   ]
  },
  {
   "cell_type": "code",
   "execution_count": 27,
   "id": "f44e7bf3",
   "metadata": {},
   "outputs": [
    {
     "data": {
      "text/plain": [
       "0"
      ]
     },
     "execution_count": 27,
     "metadata": {},
     "output_type": "execute_result"
    }
   ],
   "source": [
    "# no null values in this column\n",
    "data['Parch'].isnull().sum()"
   ]
  },
  {
   "cell_type": "code",
   "execution_count": 28,
   "id": "17850875",
   "metadata": {},
   "outputs": [
    {
     "data": {
      "text/plain": [
       "<AxesSubplot:ylabel='Parch'>"
      ]
     },
     "execution_count": 28,
     "metadata": {},
     "output_type": "execute_result"
    },
    {
     "data": {
      "image/png": "[encoded data removed]",
      "text/plain": [
       "<Figure size 640x480 with 1 Axes>"
      ]
     },
     "metadata": {},
     "output_type": "display_data"
    }
   ],
   "source": [
    "# graph showing the distribution of Parch across the dataset\n",
    "sns.barplot(x = data['Parch'].unique(),\n",
    "            y = data['Parch'].value_counts())"
   ]
  },
  {
   "cell_type": "markdown",
   "id": "7ce68074",
   "metadata": {},
   "source": [
    "### Ticket (Number)"
   ]
  },
  {
   "cell_type": "code",
   "execution_count": 29,
   "id": "e40f80fd",
   "metadata": {},
   "outputs": [
    {
     "data": {
      "text/plain": [
       "929"
      ]
     },
     "execution_count": 29,
     "metadata": {},
     "output_type": "execute_result"
    }
   ],
   "source": [
    "# high number of unique values\n",
    "data['Ticket'].nunique()"
   ]
  },
  {
   "cell_type": "code",
   "execution_count": 30,
   "id": "2a170910",
   "metadata": {},
   "outputs": [],
   "source": [
    "# Ticket column dropped due to high number of unique Ticket number\n",
    "data.drop(['Ticket'], axis = 1, inplace = True)"
   ]
  },
  {
   "cell_type": "markdown",
   "id": "de1c1b2b",
   "metadata": {},
   "source": [
    "### Fare"
   ]
  },
  {
   "cell_type": "code",
   "execution_count": 31,
   "id": "786dcc9f",
   "metadata": {},
   "outputs": [
    {
     "data": {
      "text/plain": [
       "1"
      ]
     },
     "execution_count": 31,
     "metadata": {},
     "output_type": "execute_result"
    }
   ],
   "source": [
    "# one null value in this column\n",
    "data['Fare'].isnull().sum()"
   ]
  },
  {
   "cell_type": "code",
   "execution_count": 32,
   "id": "ae2cec40",
   "metadata": {},
   "outputs": [
    {
     "data": {
      "text/plain": [
       "33.2954792813456"
      ]
     },
     "execution_count": 32,
     "metadata": {},
     "output_type": "execute_result"
    }
   ],
   "source": [
    "# calculating the mean fare price\n",
    "mean_fare = data['Fare'].mean()\n",
    "mean_fare"
   ]
  },
  {
   "cell_type": "code",
   "execution_count": 33,
   "id": "4be8ca12",
   "metadata": {},
   "outputs": [],
   "source": [
    "# filling na values with mean fare\n",
    "data['Fare'] = data['Fare'].fillna(mean_fare)"
   ]
  },
  {
   "cell_type": "code",
   "execution_count": 34,
   "id": "99be438b",
   "metadata": {},
   "outputs": [
    {
     "data": {
      "text/plain": [
       "<seaborn.axisgrid.FacetGrid at 0x2646faabf88>"
      ]
     },
     "execution_count": 34,
     "metadata": {},
     "output_type": "execute_result"
    },
    {
     "data": {
      "image/png": "[encoded data removed]",
      "text/plain": [
       "<Figure size 500x500 with 1 Axes>"
      ]
     },
     "metadata": {},
     "output_type": "display_data"
    }
   ],
   "source": [
    "# graph showing the distribution of Fare across the dataset\n",
    "sns.displot(data['Fare'])"
   ]
  },
  {
   "cell_type": "code",
   "execution_count": 35,
   "id": "d9ec0712",
   "metadata": {},
   "outputs": [
    {
     "data": {
      "text/plain": [
       "PassengerId\n",
       "1235    512.3292\n",
       "680     512.3292\n",
       "738     512.3292\n",
       "259     512.3292\n",
       "961     263.0000\n",
       "28      263.0000\n",
       "945     263.0000\n",
       "342     263.0000\n",
       "439     263.0000\n",
       "89      263.0000\n",
       "Name: Fare, dtype: float64"
      ]
     },
     "execution_count": 35,
     "metadata": {},
     "output_type": "execute_result"
    }
   ],
   "source": [
    "# finding the highest fare values in the dataset\n",
    "data['Fare'].sort_values(ascending = False).head(10)"
   ]
  },
  {
   "cell_type": "markdown",
   "id": "d3b2c1aa",
   "metadata": {},
   "source": [
    "### Cabin"
   ]
  },
  {
   "cell_type": "code",
   "execution_count": 36,
   "id": "3042dc86",
   "metadata": {},
   "outputs": [
    {
     "data": {
      "text/plain": [
       "1014"
      ]
     },
     "execution_count": 36,
     "metadata": {},
     "output_type": "execute_result"
    }
   ],
   "source": [
    "# high number of null values, highlighting not many had cabins\n",
    "data['Cabin'].isnull().sum()"
   ]
  },
  {
   "cell_type": "code",
   "execution_count": 37,
   "id": "22678a1c",
   "metadata": {},
   "outputs": [
    {
     "data": {
      "text/plain": [
       "186"
      ]
     },
     "execution_count": 37,
     "metadata": {},
     "output_type": "execute_result"
    }
   ],
   "source": [
    "# of those that had cabins there is a high number of unique cabin names\n",
    "data['Cabin'].nunique()"
   ]
  },
  {
   "cell_type": "code",
   "execution_count": 38,
   "id": "7238811e",
   "metadata": {},
   "outputs": [],
   "source": [
    "# filling null values with zeros to indicate those which did not have cabins\n",
    "data['Cabin'] = data['Cabin'].fillna(0)"
   ]
  },
  {
   "cell_type": "code",
   "execution_count": 39,
   "id": "8ca5f644",
   "metadata": {},
   "outputs": [],
   "source": [
    "# creating function to return 1 if the person had a cabin\n",
    "def cabin_purchased(x):\n",
    "    if x != 0:\n",
    "        x = 1\n",
    "        return x\n",
    "    else:\n",
    "        return x"
   ]
  },
  {
   "cell_type": "code",
   "execution_count": 40,
   "id": "6416e413",
   "metadata": {},
   "outputs": [],
   "source": [
    "# applying function\n",
    "data['Cabin'] = data['Cabin'].apply(lambda x : cabin_purchased(x))"
   ]
  },
  {
   "cell_type": "code",
   "execution_count": 41,
   "id": "1afe4ca6",
   "metadata": {},
   "outputs": [],
   "source": [
    "cabin = data['Cabin']"
   ]
  },
  {
   "cell_type": "code",
   "execution_count": 42,
   "id": "561d6093",
   "metadata": {},
   "outputs": [
    {
     "data": {
      "text/plain": [
       "PassengerId\n",
       "1       0\n",
       "2       1\n",
       "3       0\n",
       "4       1\n",
       "5       0\n",
       "       ..\n",
       "1305    0\n",
       "1306    1\n",
       "1307    0\n",
       "1308    0\n",
       "1309    0\n",
       "Name: Cabin, Length: 1309, dtype: int64"
      ]
     },
     "execution_count": 42,
     "metadata": {},
     "output_type": "execute_result"
    }
   ],
   "source": [
    "# cabin values afer processing\n",
    "data['Cabin']"
   ]
  },
  {
   "cell_type": "code",
   "execution_count": 43,
   "id": "f32900ae",
   "metadata": {},
   "outputs": [
    {
     "data": {
      "text/plain": [
       "<AxesSubplot:ylabel='Cabin'>"
      ]
     },
     "execution_count": 43,
     "metadata": {},
     "output_type": "execute_result"
    },
    {
     "data": {
      "image/png": "[encoded data removed]",
      "text/plain": [
       "<Figure size 640x480 with 1 Axes>"
      ]
     },
     "metadata": {},
     "output_type": "display_data"
    }
   ],
   "source": [
    "# graph showing the distribution of Cabin across the dataset\n",
    "sns.barplot(x = data['Cabin'].unique(),\n",
    "            y = data['Cabin'].value_counts())"
   ]
  },
  {
   "cell_type": "markdown",
   "id": "441caf9c",
   "metadata": {},
   "source": [
    "### Embarked"
   ]
  },
  {
   "cell_type": "code",
   "execution_count": 44,
   "id": "82ac8cce",
   "metadata": {},
   "outputs": [
    {
     "data": {
      "text/plain": [
       "2"
      ]
     },
     "execution_count": 44,
     "metadata": {},
     "output_type": "execute_result"
    }
   ],
   "source": [
    "# there are some null values in this column\n",
    "data['Embarked'].isnull().sum()"
   ]
  },
  {
   "cell_type": "code",
   "execution_count": 45,
   "id": "43cca00f",
   "metadata": {},
   "outputs": [
    {
     "data": {
      "text/html": [
       "<div>\n",
       "<style scoped>\n",
       "    .dataframe tbody tr th:only-of-type {\n",
       "        vertical-align: middle;\n",
       "    }\n",
       "\n",
       "    .dataframe tbody tr th {\n",
       "        vertical-align: top;\n",
       "    }\n",
       "\n",
       "    .dataframe thead th {\n",
       "        text-align: right;\n",
       "    }\n",
       "</style>\n",
       "<table border=\"1\" class=\"dataframe\">\n",
       "  <thead>\n",
       "    <tr style=\"text-align: right;\">\n",
       "      <th></th>\n",
       "      <th>Pclass</th>\n",
       "      <th>Sex</th>\n",
       "      <th>Age</th>\n",
       "      <th>SibSp</th>\n",
       "      <th>Parch</th>\n",
       "      <th>Fare</th>\n",
       "      <th>Cabin</th>\n",
       "      <th>Embarked</th>\n",
       "    </tr>\n",
       "    <tr>\n",
       "      <th>PassengerId</th>\n",
       "      <th></th>\n",
       "      <th></th>\n",
       "      <th></th>\n",
       "      <th></th>\n",
       "      <th></th>\n",
       "      <th></th>\n",
       "      <th></th>\n",
       "      <th></th>\n",
       "    </tr>\n",
       "  </thead>\n",
       "  <tbody>\n",
       "    <tr>\n",
       "      <th>62</th>\n",
       "      <td>First</td>\n",
       "      <td>female</td>\n",
       "      <td>38.0</td>\n",
       "      <td>0</td>\n",
       "      <td>0</td>\n",
       "      <td>80.0</td>\n",
       "      <td>1</td>\n",
       "      <td>NaN</td>\n",
       "    </tr>\n",
       "    <tr>\n",
       "      <th>830</th>\n",
       "      <td>First</td>\n",
       "      <td>female</td>\n",
       "      <td>62.0</td>\n",
       "      <td>0</td>\n",
       "      <td>0</td>\n",
       "      <td>80.0</td>\n",
       "      <td>1</td>\n",
       "      <td>NaN</td>\n",
       "    </tr>\n",
       "  </tbody>\n",
       "</table>\n",
       "</div>"
      ],
      "text/plain": [
       "            Pclass     Sex   Age  SibSp  Parch  Fare  Cabin Embarked\n",
       "PassengerId                                                         \n",
       "62           First  female  38.0      0      0  80.0      1      NaN\n",
       "830          First  female  62.0      0      0  80.0      1      NaN"
      ]
     },
     "execution_count": 45,
     "metadata": {},
     "output_type": "execute_result"
    }
   ],
   "source": [
    "# these can be seen below\n",
    "data[data['Embarked'].isnull()]"
   ]
  },
  {
   "cell_type": "code",
   "execution_count": 46,
   "id": "1fee7abd",
   "metadata": {},
   "outputs": [
    {
     "data": {
      "text/plain": [
       "array(['S', 'C', 'Q', nan], dtype=object)"
      ]
     },
     "execution_count": 46,
     "metadata": {},
     "output_type": "execute_result"
    }
   ],
   "source": [
    "# three unique values for embarked.\n",
    "data['Embarked'].unique()"
   ]
  },
  {
   "cell_type": "code",
   "execution_count": 47,
   "id": "16b112ca",
   "metadata": {},
   "outputs": [],
   "source": [
    "# 55% of first class passengers boarded at Southampton and this is where the ship's journey started\n",
    "# this information was obtained from research online\n",
    "# therefore 'S' (Southampton) used to fill na's\n",
    "data['Embarked'] = data['Embarked'].fillna('S')"
   ]
  },
  {
   "cell_type": "code",
   "execution_count": 48,
   "id": "7ddf7fc7",
   "metadata": {},
   "outputs": [],
   "source": [
    "# values converted to full names for use in graph\n",
    "def embark_locations(x):\n",
    "    if x == 'S':\n",
    "        return 'Southampton'\n",
    "    if x == 'C':\n",
    "        return 'Cherbourg'\n",
    "    else:\n",
    "        return 'Queenstown'"
   ]
  },
  {
   "cell_type": "code",
   "execution_count": 49,
   "id": "b515df10",
   "metadata": {},
   "outputs": [],
   "source": [
    "# function applied\n",
    "embarked_locations_text = data['Embarked'].apply(lambda x: embark_locations(x))"
   ]
  },
  {
   "cell_type": "code",
   "execution_count": 50,
   "id": "6ef44d91",
   "metadata": {},
   "outputs": [
    {
     "data": {
      "text/plain": [
       "<AxesSubplot:ylabel='Embarked'>"
      ]
     },
     "execution_count": 50,
     "metadata": {},
     "output_type": "execute_result"
    },
    {
     "data": {
      "image/png": "[encoded data removed]",
      "text/plain": [
       "<Figure size 640x480 with 1 Axes>"
      ]
     },
     "metadata": {},
     "output_type": "display_data"
    }
   ],
   "source": [
    "# graph showing the distribution of embakred across the dataset\n",
    "sns.barplot(x = embarked_locations_text.unique(),\n",
    "            y = embarked_locations_text.value_counts())"
   ]
  },
  {
   "cell_type": "markdown",
   "id": "c7ddbe92",
   "metadata": {},
   "source": [
    "## Remaining Null Values"
   ]
  },
  {
   "cell_type": "code",
   "execution_count": 51,
   "id": "73fa1d8d",
   "metadata": {},
   "outputs": [
    {
     "data": {
      "text/plain": [
       "Pclass      0\n",
       "Sex         0\n",
       "Age         0\n",
       "SibSp       0\n",
       "Parch       0\n",
       "Fare        0\n",
       "Cabin       0\n",
       "Embarked    0\n",
       "dtype: int64"
      ]
     },
     "execution_count": 51,
     "metadata": {},
     "output_type": "execute_result"
    }
   ],
   "source": [
    "# Data has been preprocessed so there is no more remaining null values\n",
    "data.isnull().sum()"
   ]
  },
  {
   "cell_type": "code",
   "execution_count": 52,
   "id": "6dcd26fc",
   "metadata": {},
   "outputs": [
    {
     "data": {
      "text/html": [
       "<div>\n",
       "<style scoped>\n",
       "    .dataframe tbody tr th:only-of-type {\n",
       "        vertical-align: middle;\n",
       "    }\n",
       "\n",
       "    .dataframe tbody tr th {\n",
       "        vertical-align: top;\n",
       "    }\n",
       "\n",
       "    .dataframe thead th {\n",
       "        text-align: right;\n",
       "    }\n",
       "</style>\n",
       "<table border=\"1\" class=\"dataframe\">\n",
       "  <thead>\n",
       "    <tr style=\"text-align: right;\">\n",
       "      <th></th>\n",
       "      <th>Pclass</th>\n",
       "      <th>Sex</th>\n",
       "      <th>Age</th>\n",
       "      <th>SibSp</th>\n",
       "      <th>Parch</th>\n",
       "      <th>Fare</th>\n",
       "      <th>Cabin</th>\n",
       "      <th>Embarked</th>\n",
       "    </tr>\n",
       "    <tr>\n",
       "      <th>PassengerId</th>\n",
       "      <th></th>\n",
       "      <th></th>\n",
       "      <th></th>\n",
       "      <th></th>\n",
       "      <th></th>\n",
       "      <th></th>\n",
       "      <th></th>\n",
       "      <th></th>\n",
       "    </tr>\n",
       "  </thead>\n",
       "  <tbody>\n",
       "    <tr>\n",
       "      <th>1</th>\n",
       "      <td>Third</td>\n",
       "      <td>male</td>\n",
       "      <td>22.000000</td>\n",
       "      <td>1</td>\n",
       "      <td>0</td>\n",
       "      <td>7.2500</td>\n",
       "      <td>0</td>\n",
       "      <td>S</td>\n",
       "    </tr>\n",
       "    <tr>\n",
       "      <th>2</th>\n",
       "      <td>First</td>\n",
       "      <td>female</td>\n",
       "      <td>38.000000</td>\n",
       "      <td>1</td>\n",
       "      <td>0</td>\n",
       "      <td>71.2833</td>\n",
       "      <td>1</td>\n",
       "      <td>C</td>\n",
       "    </tr>\n",
       "    <tr>\n",
       "      <th>3</th>\n",
       "      <td>Third</td>\n",
       "      <td>female</td>\n",
       "      <td>26.000000</td>\n",
       "      <td>0</td>\n",
       "      <td>0</td>\n",
       "      <td>7.9250</td>\n",
       "      <td>0</td>\n",
       "      <td>S</td>\n",
       "    </tr>\n",
       "    <tr>\n",
       "      <th>4</th>\n",
       "      <td>First</td>\n",
       "      <td>female</td>\n",
       "      <td>35.000000</td>\n",
       "      <td>1</td>\n",
       "      <td>0</td>\n",
       "      <td>53.1000</td>\n",
       "      <td>1</td>\n",
       "      <td>S</td>\n",
       "    </tr>\n",
       "    <tr>\n",
       "      <th>5</th>\n",
       "      <td>Third</td>\n",
       "      <td>male</td>\n",
       "      <td>35.000000</td>\n",
       "      <td>0</td>\n",
       "      <td>0</td>\n",
       "      <td>8.0500</td>\n",
       "      <td>0</td>\n",
       "      <td>S</td>\n",
       "    </tr>\n",
       "    <tr>\n",
       "      <th>6</th>\n",
       "      <td>Third</td>\n",
       "      <td>male</td>\n",
       "      <td>29.881138</td>\n",
       "      <td>0</td>\n",
       "      <td>0</td>\n",
       "      <td>8.4583</td>\n",
       "      <td>0</td>\n",
       "      <td>Q</td>\n",
       "    </tr>\n",
       "    <tr>\n",
       "      <th>7</th>\n",
       "      <td>First</td>\n",
       "      <td>male</td>\n",
       "      <td>54.000000</td>\n",
       "      <td>0</td>\n",
       "      <td>0</td>\n",
       "      <td>51.8625</td>\n",
       "      <td>1</td>\n",
       "      <td>S</td>\n",
       "    </tr>\n",
       "    <tr>\n",
       "      <th>8</th>\n",
       "      <td>Third</td>\n",
       "      <td>male</td>\n",
       "      <td>2.000000</td>\n",
       "      <td>3</td>\n",
       "      <td>1</td>\n",
       "      <td>21.0750</td>\n",
       "      <td>0</td>\n",
       "      <td>S</td>\n",
       "    </tr>\n",
       "    <tr>\n",
       "      <th>9</th>\n",
       "      <td>Third</td>\n",
       "      <td>female</td>\n",
       "      <td>27.000000</td>\n",
       "      <td>0</td>\n",
       "      <td>2</td>\n",
       "      <td>11.1333</td>\n",
       "      <td>0</td>\n",
       "      <td>S</td>\n",
       "    </tr>\n",
       "    <tr>\n",
       "      <th>10</th>\n",
       "      <td>Second</td>\n",
       "      <td>female</td>\n",
       "      <td>14.000000</td>\n",
       "      <td>1</td>\n",
       "      <td>0</td>\n",
       "      <td>30.0708</td>\n",
       "      <td>0</td>\n",
       "      <td>C</td>\n",
       "    </tr>\n",
       "  </tbody>\n",
       "</table>\n",
       "</div>"
      ],
      "text/plain": [
       "             Pclass     Sex        Age  SibSp  Parch     Fare  Cabin Embarked\n",
       "PassengerId                                                                  \n",
       "1             Third    male  22.000000      1      0   7.2500      0        S\n",
       "2             First  female  38.000000      1      0  71.2833      1        C\n",
       "3             Third  female  26.000000      0      0   7.9250      0        S\n",
       "4             First  female  35.000000      1      0  53.1000      1        S\n",
       "5             Third    male  35.000000      0      0   8.0500      0        S\n",
       "6             Third    male  29.881138      0      0   8.4583      0        Q\n",
       "7             First    male  54.000000      0      0  51.8625      1        S\n",
       "8             Third    male   2.000000      3      1  21.0750      0        S\n",
       "9             Third  female  27.000000      0      2  11.1333      0        S\n",
       "10           Second  female  14.000000      1      0  30.0708      0        C"
      ]
     },
     "execution_count": 52,
     "metadata": {},
     "output_type": "execute_result"
    }
   ],
   "source": [
    "data.head(10)"
   ]
  },
  {
   "cell_type": "markdown",
   "id": "2543872c",
   "metadata": {},
   "source": [
    "## Survival Rates By Feature"
   ]
  },
  {
   "cell_type": "markdown",
   "id": "da033565",
   "metadata": {},
   "source": [
    "### Overall Survival Rate"
   ]
  },
  {
   "cell_type": "code",
   "execution_count": 53,
   "id": "5eab8938",
   "metadata": {},
   "outputs": [
    {
     "data": {
      "text/plain": [
       "[[Text(0, 0, 'No'), Text(1, 0, 'Yes')]]"
      ]
     },
     "execution_count": 53,
     "metadata": {},
     "output_type": "execute_result"
    },
    {
     "data": {
      "image/png": "[encoded data removed]",
      "text/plain": [
       "<Figure size 640x480 with 1 Axes>"
      ]
     },
     "metadata": {},
     "output_type": "display_data"
    }
   ],
   "source": [
    "# graph showing the overall survival rate for all passengers\n",
    "g = sns.barplot(x = train_targets.unique(),\n",
    "            y = train_targets.value_counts()/train_targets.count())\n",
    "\n",
    "g.set(xticklabels = ['No', 'Yes'])"
   ]
  },
  {
   "cell_type": "markdown",
   "id": "6874d13f",
   "metadata": {},
   "source": [
    "### Sex and Class"
   ]
  },
  {
   "cell_type": "code",
   "execution_count": 54,
   "id": "26ab0de5",
   "metadata": {},
   "outputs": [
    {
     "data": {
      "text/plain": [
       "Text(0, 0.5, 'Survival Probability')"
      ]
     },
     "execution_count": 54,
     "metadata": {},
     "output_type": "execute_result"
    },
    {
     "data": {
      "image/png": "[encoded data removed]",
      "text/plain": [
       "<Figure size 640x480 with 2 Axes>"
      ]
     },
     "metadata": {},
     "output_type": "display_data"
    }
   ],
   "source": [
    "fig, ax = plt.subplots(1, 2, sharey = True)\n",
    "\n",
    "# graph showing survival rate by sex\n",
    "g1 = sns.barplot(x = 'Sex', y = train_targets, data = data, ax = ax [0])\n",
    "g1.set_ylabel('Survival Probability')\n",
    "\n",
    "# graph showing survival rate by sex and class\n",
    "g2 = sns.barplot(x = 'Sex', y = train_targets, hue = 'Pclass', data = data, ax = ax[1])\n",
    "g2.set_ylabel('Survival Probability')"
   ]
  },
  {
   "cell_type": "markdown",
   "id": "f4f31a6c",
   "metadata": {},
   "source": [
    "### Age"
   ]
  },
  {
   "cell_type": "code",
   "execution_count": 55,
   "id": "e04e3cbd",
   "metadata": {},
   "outputs": [],
   "source": [
    "# creating an age dataframe\n",
    "age_df = pd.concat([data['Age'], train_targets], axis = 1)"
   ]
  },
  {
   "cell_type": "code",
   "execution_count": 56,
   "id": "76f585aa",
   "metadata": {},
   "outputs": [],
   "source": [
    "# removing null data which are the test values that have no targets, leaving only the train data\n",
    "age_df = age_df.dropna()"
   ]
  },
  {
   "cell_type": "code",
   "execution_count": 57,
   "id": "3110f10d",
   "metadata": {},
   "outputs": [],
   "source": [
    "# rounding age column\n",
    "age_df['Age'] = age_df['Age'].round()"
   ]
  },
  {
   "cell_type": "code",
   "execution_count": 58,
   "id": "31e28164",
   "metadata": {},
   "outputs": [
    {
     "data": {
      "text/html": [
       "<div>\n",
       "<style scoped>\n",
       "    .dataframe tbody tr th:only-of-type {\n",
       "        vertical-align: middle;\n",
       "    }\n",
       "\n",
       "    .dataframe tbody tr th {\n",
       "        vertical-align: top;\n",
       "    }\n",
       "\n",
       "    .dataframe thead th {\n",
       "        text-align: right;\n",
       "    }\n",
       "</style>\n",
       "<table border=\"1\" class=\"dataframe\">\n",
       "  <thead>\n",
       "    <tr style=\"text-align: right;\">\n",
       "      <th></th>\n",
       "      <th>Age</th>\n",
       "      <th>Survived</th>\n",
       "    </tr>\n",
       "    <tr>\n",
       "      <th>PassengerId</th>\n",
       "      <th></th>\n",
       "      <th></th>\n",
       "    </tr>\n",
       "  </thead>\n",
       "  <tbody>\n",
       "    <tr>\n",
       "      <th>1</th>\n",
       "      <td>22.0</td>\n",
       "      <td>0.0</td>\n",
       "    </tr>\n",
       "    <tr>\n",
       "      <th>2</th>\n",
       "      <td>38.0</td>\n",
       "      <td>1.0</td>\n",
       "    </tr>\n",
       "    <tr>\n",
       "      <th>3</th>\n",
       "      <td>26.0</td>\n",
       "      <td>1.0</td>\n",
       "    </tr>\n",
       "    <tr>\n",
       "      <th>4</th>\n",
       "      <td>35.0</td>\n",
       "      <td>1.0</td>\n",
       "    </tr>\n",
       "    <tr>\n",
       "      <th>5</th>\n",
       "      <td>35.0</td>\n",
       "      <td>0.0</td>\n",
       "    </tr>\n",
       "  </tbody>\n",
       "</table>\n",
       "</div>"
      ],
      "text/plain": [
       "              Age  Survived\n",
       "PassengerId                \n",
       "1            22.0       0.0\n",
       "2            38.0       1.0\n",
       "3            26.0       1.0\n",
       "4            35.0       1.0\n",
       "5            35.0       0.0"
      ]
     },
     "execution_count": 58,
     "metadata": {},
     "output_type": "execute_result"
    }
   ],
   "source": [
    "age_df.head(5)"
   ]
  },
  {
   "cell_type": "code",
   "execution_count": 59,
   "id": "4c9654fb",
   "metadata": {},
   "outputs": [],
   "source": [
    "# due to the large number of different ages, the ages are grouped/categorised. categories are listed below.\n",
    "age_cat = [[0,9],[10,19],[20,29],[30,39],[40,49],[50,59],[60,69],[70,79],[80]]"
   ]
  },
  {
   "cell_type": "code",
   "execution_count": 60,
   "id": "42c5d09a",
   "metadata": {},
   "outputs": [],
   "source": [
    "# defining function for categorising the age groups\n",
    "def age_group(x):\n",
    "    for cat in age_cat:\n",
    "        if len(cat) > 1:\n",
    "            if cat[0] <= x <= cat[1]:\n",
    "                x = F\"{cat[0]}-{cat[1]}\"\n",
    "                return x\n",
    "        else:\n",
    "            x = '80+'\n",
    "            return x"
   ]
  },
  {
   "cell_type": "code",
   "execution_count": 61,
   "id": "553e7472",
   "metadata": {},
   "outputs": [],
   "source": [
    "# applying age group function\n",
    "age_df['Group'] = age_df['Age'].apply(lambda x: age_group(x))"
   ]
  },
  {
   "cell_type": "code",
   "execution_count": 62,
   "id": "f94926c4",
   "metadata": {},
   "outputs": [
    {
     "data": {
      "text/html": [
       "<div>\n",
       "<style scoped>\n",
       "    .dataframe tbody tr th:only-of-type {\n",
       "        vertical-align: middle;\n",
       "    }\n",
       "\n",
       "    .dataframe tbody tr th {\n",
       "        vertical-align: top;\n",
       "    }\n",
       "\n",
       "    .dataframe thead th {\n",
       "        text-align: right;\n",
       "    }\n",
       "</style>\n",
       "<table border=\"1\" class=\"dataframe\">\n",
       "  <thead>\n",
       "    <tr style=\"text-align: right;\">\n",
       "      <th></th>\n",
       "      <th>Age</th>\n",
       "      <th>Survived</th>\n",
       "      <th>Group</th>\n",
       "    </tr>\n",
       "    <tr>\n",
       "      <th>PassengerId</th>\n",
       "      <th></th>\n",
       "      <th></th>\n",
       "      <th></th>\n",
       "    </tr>\n",
       "  </thead>\n",
       "  <tbody>\n",
       "    <tr>\n",
       "      <th>1</th>\n",
       "      <td>22.0</td>\n",
       "      <td>0.0</td>\n",
       "      <td>20-29</td>\n",
       "    </tr>\n",
       "    <tr>\n",
       "      <th>2</th>\n",
       "      <td>38.0</td>\n",
       "      <td>1.0</td>\n",
       "      <td>30-39</td>\n",
       "    </tr>\n",
       "    <tr>\n",
       "      <th>3</th>\n",
       "      <td>26.0</td>\n",
       "      <td>1.0</td>\n",
       "      <td>20-29</td>\n",
       "    </tr>\n",
       "    <tr>\n",
       "      <th>4</th>\n",
       "      <td>35.0</td>\n",
       "      <td>1.0</td>\n",
       "      <td>30-39</td>\n",
       "    </tr>\n",
       "    <tr>\n",
       "      <th>5</th>\n",
       "      <td>35.0</td>\n",
       "      <td>0.0</td>\n",
       "      <td>30-39</td>\n",
       "    </tr>\n",
       "  </tbody>\n",
       "</table>\n",
       "</div>"
      ],
      "text/plain": [
       "              Age  Survived  Group\n",
       "PassengerId                       \n",
       "1            22.0       0.0  20-29\n",
       "2            38.0       1.0  30-39\n",
       "3            26.0       1.0  20-29\n",
       "4            35.0       1.0  30-39\n",
       "5            35.0       0.0  30-39"
      ]
     },
     "execution_count": 62,
     "metadata": {},
     "output_type": "execute_result"
    }
   ],
   "source": [
    "age_df.head()"
   ]
  },
  {
   "cell_type": "code",
   "execution_count": 63,
   "id": "0a9555c0",
   "metadata": {},
   "outputs": [],
   "source": [
    "# grouping by the age groups, aggregating by count and sum\n",
    "age_analysis = age_df.groupby(age_df[\"Group\"]).Survived.agg([\"count\",\"sum\"])"
   ]
  },
  {
   "cell_type": "code",
   "execution_count": 64,
   "id": "64cfae41",
   "metadata": {},
   "outputs": [],
   "source": [
    "# renaming the columns\n",
    "age_analysis.rename({'count': 'Total', 'sum':'Survived'}, axis = 1, inplace = True)"
   ]
  },
  {
   "cell_type": "code",
   "execution_count": 65,
   "id": "4b142044",
   "metadata": {},
   "outputs": [],
   "source": [
    "# calculating the died column\n",
    "age_analysis['Died'] = age_analysis['Total'] - age_analysis['Survived']"
   ]
  },
  {
   "cell_type": "code",
   "execution_count": 66,
   "id": "6215c97e",
   "metadata": {},
   "outputs": [],
   "source": [
    "# calculating the survival probability\n",
    "age_analysis['Survival_Probability'] = round(age_analysis['Survived']/age_analysis['Total'],2)"
   ]
  },
  {
   "cell_type": "code",
   "execution_count": 67,
   "id": "3be5e764",
   "metadata": {},
   "outputs": [
    {
     "data": {
      "text/html": [
       "<div>\n",
       "<style scoped>\n",
       "    .dataframe tbody tr th:only-of-type {\n",
       "        vertical-align: middle;\n",
       "    }\n",
       "\n",
       "    .dataframe tbody tr th {\n",
       "        vertical-align: top;\n",
       "    }\n",
       "\n",
       "    .dataframe thead th {\n",
       "        text-align: right;\n",
       "    }\n",
       "</style>\n",
       "<table border=\"1\" class=\"dataframe\">\n",
       "  <thead>\n",
       "    <tr style=\"text-align: right;\">\n",
       "      <th></th>\n",
       "      <th>Total</th>\n",
       "      <th>Survived</th>\n",
       "      <th>Died</th>\n",
       "      <th>Survival_Probability</th>\n",
       "    </tr>\n",
       "    <tr>\n",
       "      <th>Group</th>\n",
       "      <th></th>\n",
       "      <th></th>\n",
       "      <th></th>\n",
       "      <th></th>\n",
       "    </tr>\n",
       "  </thead>\n",
       "  <tbody>\n",
       "    <tr>\n",
       "      <th>0-9</th>\n",
       "      <td>62</td>\n",
       "      <td>38.0</td>\n",
       "      <td>24.0</td>\n",
       "      <td>0.61</td>\n",
       "    </tr>\n",
       "    <tr>\n",
       "      <th>10-19</th>\n",
       "      <td>102</td>\n",
       "      <td>41.0</td>\n",
       "      <td>61.0</td>\n",
       "      <td>0.40</td>\n",
       "    </tr>\n",
       "    <tr>\n",
       "      <th>20-29</th>\n",
       "      <td>220</td>\n",
       "      <td>77.0</td>\n",
       "      <td>143.0</td>\n",
       "      <td>0.35</td>\n",
       "    </tr>\n",
       "    <tr>\n",
       "      <th>30-39</th>\n",
       "      <td>344</td>\n",
       "      <td>125.0</td>\n",
       "      <td>219.0</td>\n",
       "      <td>0.36</td>\n",
       "    </tr>\n",
       "    <tr>\n",
       "      <th>40-49</th>\n",
       "      <td>89</td>\n",
       "      <td>34.0</td>\n",
       "      <td>55.0</td>\n",
       "      <td>0.38</td>\n",
       "    </tr>\n",
       "    <tr>\n",
       "      <th>50-59</th>\n",
       "      <td>48</td>\n",
       "      <td>20.0</td>\n",
       "      <td>28.0</td>\n",
       "      <td>0.42</td>\n",
       "    </tr>\n",
       "    <tr>\n",
       "      <th>60-69</th>\n",
       "      <td>19</td>\n",
       "      <td>6.0</td>\n",
       "      <td>13.0</td>\n",
       "      <td>0.32</td>\n",
       "    </tr>\n",
       "    <tr>\n",
       "      <th>70-79</th>\n",
       "      <td>6</td>\n",
       "      <td>0.0</td>\n",
       "      <td>6.0</td>\n",
       "      <td>0.00</td>\n",
       "    </tr>\n",
       "    <tr>\n",
       "      <th>80+</th>\n",
       "      <td>1</td>\n",
       "      <td>1.0</td>\n",
       "      <td>0.0</td>\n",
       "      <td>1.00</td>\n",
       "    </tr>\n",
       "  </tbody>\n",
       "</table>\n",
       "</div>"
      ],
      "text/plain": [
       "       Total  Survived   Died  Survival_Probability\n",
       "Group                                              \n",
       "0-9       62      38.0   24.0                  0.61\n",
       "10-19    102      41.0   61.0                  0.40\n",
       "20-29    220      77.0  143.0                  0.35\n",
       "30-39    344     125.0  219.0                  0.36\n",
       "40-49     89      34.0   55.0                  0.38\n",
       "50-59     48      20.0   28.0                  0.42\n",
       "60-69     19       6.0   13.0                  0.32\n",
       "70-79      6       0.0    6.0                  0.00\n",
       "80+        1       1.0    0.0                  1.00"
      ]
     },
     "execution_count": 67,
     "metadata": {},
     "output_type": "execute_result"
    }
   ],
   "source": [
    "age_analysis"
   ]
  },
  {
   "cell_type": "code",
   "execution_count": 68,
   "id": "87b4eebf",
   "metadata": {},
   "outputs": [
    {
     "data": {
      "text/plain": [
       "<AxesSubplot:xlabel='Group'>"
      ]
     },
     "execution_count": 68,
     "metadata": {},
     "output_type": "execute_result"
    },
    {
     "data": {
      "image/png": "[encoded data removed]",
      "text/plain": [
       "<Figure size 640x480 with 1 Axes>"
      ]
     },
     "metadata": {},
     "output_type": "display_data"
    }
   ],
   "source": [
    "# stacked bar plot showing the number of people that survived and died by age group\n",
    "age_analysis[['Survived', 'Died']].plot(kind = 'bar', stacked = 'True', color = ['green', 'red'])"
   ]
  },
  {
   "cell_type": "code",
   "execution_count": 69,
   "id": "6cb16038",
   "metadata": {},
   "outputs": [
    {
     "data": {
      "text/plain": [
       "Text(0, 0.5, 'Survival Probability')"
      ]
     },
     "execution_count": 69,
     "metadata": {},
     "output_type": "execute_result"
    },
    {
     "data": {
      "image/png": "[encoded data removed]",
      "text/plain": [
       "<Figure size 640x480 with 1 Axes>"
      ]
     },
     "metadata": {},
     "output_type": "display_data"
    }
   ],
   "source": [
    "# graph showing the survival probability by age group\n",
    "g = sns.barplot(x = age_analysis.index,\n",
    "                y = age_analysis['Survival_Probability'])\n",
    "\n",
    "g.set_ylabel('Survival Probability')"
   ]
  },
  {
   "cell_type": "markdown",
   "id": "b70948ab",
   "metadata": {},
   "source": [
    "### Sibsp"
   ]
  },
  {
   "cell_type": "code",
   "execution_count": 70,
   "id": "88174266",
   "metadata": {},
   "outputs": [],
   "source": [
    "# creating an sibsp dataframe\n",
    "sibsp_df = pd.concat([data['SibSp'], train_targets], axis = 1)"
   ]
  },
  {
   "cell_type": "code",
   "execution_count": 71,
   "id": "54565f4d",
   "metadata": {},
   "outputs": [],
   "source": [
    "# removing null data which are the test values that have no targets, leaving only the train data\n",
    "sibsp_df = sibsp_df.dropna()"
   ]
  },
  {
   "cell_type": "code",
   "execution_count": 72,
   "id": "4976893b",
   "metadata": {},
   "outputs": [
    {
     "data": {
      "text/html": [
       "<div>\n",
       "<style scoped>\n",
       "    .dataframe tbody tr th:only-of-type {\n",
       "        vertical-align: middle;\n",
       "    }\n",
       "\n",
       "    .dataframe tbody tr th {\n",
       "        vertical-align: top;\n",
       "    }\n",
       "\n",
       "    .dataframe thead th {\n",
       "        text-align: right;\n",
       "    }\n",
       "</style>\n",
       "<table border=\"1\" class=\"dataframe\">\n",
       "  <thead>\n",
       "    <tr style=\"text-align: right;\">\n",
       "      <th></th>\n",
       "      <th>SibSp</th>\n",
       "      <th>Survived</th>\n",
       "    </tr>\n",
       "    <tr>\n",
       "      <th>PassengerId</th>\n",
       "      <th></th>\n",
       "      <th></th>\n",
       "    </tr>\n",
       "  </thead>\n",
       "  <tbody>\n",
       "    <tr>\n",
       "      <th>1</th>\n",
       "      <td>1</td>\n",
       "      <td>0.0</td>\n",
       "    </tr>\n",
       "    <tr>\n",
       "      <th>2</th>\n",
       "      <td>1</td>\n",
       "      <td>1.0</td>\n",
       "    </tr>\n",
       "    <tr>\n",
       "      <th>3</th>\n",
       "      <td>0</td>\n",
       "      <td>1.0</td>\n",
       "    </tr>\n",
       "    <tr>\n",
       "      <th>4</th>\n",
       "      <td>1</td>\n",
       "      <td>1.0</td>\n",
       "    </tr>\n",
       "    <tr>\n",
       "      <th>5</th>\n",
       "      <td>0</td>\n",
       "      <td>0.0</td>\n",
       "    </tr>\n",
       "    <tr>\n",
       "      <th>...</th>\n",
       "      <td>...</td>\n",
       "      <td>...</td>\n",
       "    </tr>\n",
       "    <tr>\n",
       "      <th>887</th>\n",
       "      <td>0</td>\n",
       "      <td>0.0</td>\n",
       "    </tr>\n",
       "    <tr>\n",
       "      <th>888</th>\n",
       "      <td>0</td>\n",
       "      <td>1.0</td>\n",
       "    </tr>\n",
       "    <tr>\n",
       "      <th>889</th>\n",
       "      <td>1</td>\n",
       "      <td>0.0</td>\n",
       "    </tr>\n",
       "    <tr>\n",
       "      <th>890</th>\n",
       "      <td>0</td>\n",
       "      <td>1.0</td>\n",
       "    </tr>\n",
       "    <tr>\n",
       "      <th>891</th>\n",
       "      <td>0</td>\n",
       "      <td>0.0</td>\n",
       "    </tr>\n",
       "  </tbody>\n",
       "</table>\n",
       "<p>891 rows × 2 columns</p>\n",
       "</div>"
      ],
      "text/plain": [
       "             SibSp  Survived\n",
       "PassengerId                 \n",
       "1                1       0.0\n",
       "2                1       1.0\n",
       "3                0       1.0\n",
       "4                1       1.0\n",
       "5                0       0.0\n",
       "...            ...       ...\n",
       "887              0       0.0\n",
       "888              0       1.0\n",
       "889              1       0.0\n",
       "890              0       1.0\n",
       "891              0       0.0\n",
       "\n",
       "[891 rows x 2 columns]"
      ]
     },
     "execution_count": 72,
     "metadata": {},
     "output_type": "execute_result"
    }
   ],
   "source": [
    "sibsp_df"
   ]
  },
  {
   "cell_type": "code",
   "execution_count": 73,
   "id": "814967f5",
   "metadata": {},
   "outputs": [],
   "source": [
    "# grouping by sibsp, aggregating by count and sum\n",
    "sibsp_analysis = sibsp_df.groupby(sibsp_df[\"SibSp\"]).Survived.agg([\"count\",\"sum\"])"
   ]
  },
  {
   "cell_type": "code",
   "execution_count": 74,
   "id": "433157f2",
   "metadata": {},
   "outputs": [],
   "source": [
    "# renaming the columns\n",
    "sibsp_analysis.rename({'count': 'Total', 'sum':'Survived'}, axis = 1, inplace = True)"
   ]
  },
  {
   "cell_type": "code",
   "execution_count": 75,
   "id": "1d6adfbe",
   "metadata": {},
   "outputs": [],
   "source": [
    "# calculating the died column\n",
    "sibsp_analysis['Died'] = sibsp_analysis['Total'] - sibsp_analysis['Survived']"
   ]
  },
  {
   "cell_type": "code",
   "execution_count": 76,
   "id": "f8caf0d2",
   "metadata": {},
   "outputs": [],
   "source": [
    "# calculating the survival probability\n",
    "sibsp_analysis['Survival_Probability'] = round(sibsp_analysis['Survived']/sibsp_analysis['Total'],2)"
   ]
  },
  {
   "cell_type": "code",
   "execution_count": 77,
   "id": "9f993490",
   "metadata": {},
   "outputs": [
    {
     "data": {
      "text/html": [
       "<div>\n",
       "<style scoped>\n",
       "    .dataframe tbody tr th:only-of-type {\n",
       "        vertical-align: middle;\n",
       "    }\n",
       "\n",
       "    .dataframe tbody tr th {\n",
       "        vertical-align: top;\n",
       "    }\n",
       "\n",
       "    .dataframe thead th {\n",
       "        text-align: right;\n",
       "    }\n",
       "</style>\n",
       "<table border=\"1\" class=\"dataframe\">\n",
       "  <thead>\n",
       "    <tr style=\"text-align: right;\">\n",
       "      <th></th>\n",
       "      <th>Total</th>\n",
       "      <th>Survived</th>\n",
       "      <th>Died</th>\n",
       "      <th>Survival_Probability</th>\n",
       "    </tr>\n",
       "    <tr>\n",
       "      <th>SibSp</th>\n",
       "      <th></th>\n",
       "      <th></th>\n",
       "      <th></th>\n",
       "      <th></th>\n",
       "    </tr>\n",
       "  </thead>\n",
       "  <tbody>\n",
       "    <tr>\n",
       "      <th>0</th>\n",
       "      <td>608</td>\n",
       "      <td>210.0</td>\n",
       "      <td>398.0</td>\n",
       "      <td>0.35</td>\n",
       "    </tr>\n",
       "    <tr>\n",
       "      <th>1</th>\n",
       "      <td>209</td>\n",
       "      <td>112.0</td>\n",
       "      <td>97.0</td>\n",
       "      <td>0.54</td>\n",
       "    </tr>\n",
       "    <tr>\n",
       "      <th>2</th>\n",
       "      <td>28</td>\n",
       "      <td>13.0</td>\n",
       "      <td>15.0</td>\n",
       "      <td>0.46</td>\n",
       "    </tr>\n",
       "    <tr>\n",
       "      <th>3</th>\n",
       "      <td>16</td>\n",
       "      <td>4.0</td>\n",
       "      <td>12.0</td>\n",
       "      <td>0.25</td>\n",
       "    </tr>\n",
       "    <tr>\n",
       "      <th>4</th>\n",
       "      <td>18</td>\n",
       "      <td>3.0</td>\n",
       "      <td>15.0</td>\n",
       "      <td>0.17</td>\n",
       "    </tr>\n",
       "    <tr>\n",
       "      <th>5</th>\n",
       "      <td>5</td>\n",
       "      <td>0.0</td>\n",
       "      <td>5.0</td>\n",
       "      <td>0.00</td>\n",
       "    </tr>\n",
       "    <tr>\n",
       "      <th>8</th>\n",
       "      <td>7</td>\n",
       "      <td>0.0</td>\n",
       "      <td>7.0</td>\n",
       "      <td>0.00</td>\n",
       "    </tr>\n",
       "  </tbody>\n",
       "</table>\n",
       "</div>"
      ],
      "text/plain": [
       "       Total  Survived   Died  Survival_Probability\n",
       "SibSp                                              \n",
       "0        608     210.0  398.0                  0.35\n",
       "1        209     112.0   97.0                  0.54\n",
       "2         28      13.0   15.0                  0.46\n",
       "3         16       4.0   12.0                  0.25\n",
       "4         18       3.0   15.0                  0.17\n",
       "5          5       0.0    5.0                  0.00\n",
       "8          7       0.0    7.0                  0.00"
      ]
     },
     "execution_count": 77,
     "metadata": {},
     "output_type": "execute_result"
    }
   ],
   "source": [
    "sibsp_analysis"
   ]
  },
  {
   "cell_type": "code",
   "execution_count": 78,
   "id": "50a0b260",
   "metadata": {},
   "outputs": [
    {
     "data": {
      "text/plain": [
       "Text(0, 0.5, 'Survival Probability')"
      ]
     },
     "execution_count": 78,
     "metadata": {},
     "output_type": "execute_result"
    },
    {
     "data": {
      "image/png": "[encoded data removed]",
      "text/plain": [
       "<Figure size 640x480 with 1 Axes>"
      ]
     },
     "metadata": {},
     "output_type": "display_data"
    }
   ],
   "source": [
    "# graph showing the survival probability by sibsp\n",
    "g = sns.barplot(x = sibsp_analysis.index,\n",
    "                y = sibsp_analysis['Survival_Probability'])\n",
    "\n",
    "g.set_ylabel('Survival Probability')"
   ]
  },
  {
   "cell_type": "markdown",
   "id": "63656c70",
   "metadata": {},
   "source": [
    "### Parch"
   ]
  },
  {
   "cell_type": "code",
   "execution_count": 79,
   "id": "c57e5bf9",
   "metadata": {},
   "outputs": [],
   "source": [
    "# creating an parch dataframe\n",
    "parch_df = pd.concat([data['Parch'], train_targets], axis = 1)"
   ]
  },
  {
   "cell_type": "code",
   "execution_count": 80,
   "id": "20a110ab",
   "metadata": {},
   "outputs": [],
   "source": [
    "# removing null data which are the test values that have no targets, leaving only the train data\n",
    "parch_df = parch_df.dropna()"
   ]
  },
  {
   "cell_type": "code",
   "execution_count": 81,
   "id": "34831896",
   "metadata": {},
   "outputs": [],
   "source": [
    "# grouping by parch, aggregating by count and sum\n",
    "parch_analysis = parch_df.groupby(parch_df['Parch']).Survived.agg([\"count\",\"sum\"])"
   ]
  },
  {
   "cell_type": "code",
   "execution_count": 82,
   "id": "1243dd9a",
   "metadata": {},
   "outputs": [],
   "source": [
    "# renaming the columns\n",
    "parch_analysis.rename({'count': 'Total', 'sum':'Survived'}, axis = 1, inplace = True)"
   ]
  },
  {
   "cell_type": "code",
   "execution_count": 83,
   "id": "5008fd6e",
   "metadata": {},
   "outputs": [],
   "source": [
    "# calculating the died column\n",
    "parch_analysis['Died'] = parch_analysis['Total'] - parch_analysis['Survived']"
   ]
  },
  {
   "cell_type": "code",
   "execution_count": 84,
   "id": "9b4ebc19",
   "metadata": {},
   "outputs": [],
   "source": [
    "# calculating the survival probability\n",
    "parch_analysis['Survival_Probability'] = round(parch_analysis['Survived']/parch_analysis['Total'],2)"
   ]
  },
  {
   "cell_type": "code",
   "execution_count": 85,
   "id": "0ab6cc7b",
   "metadata": {},
   "outputs": [
    {
     "data": {
      "text/html": [
       "<div>\n",
       "<style scoped>\n",
       "    .dataframe tbody tr th:only-of-type {\n",
       "        vertical-align: middle;\n",
       "    }\n",
       "\n",
       "    .dataframe tbody tr th {\n",
       "        vertical-align: top;\n",
       "    }\n",
       "\n",
       "    .dataframe thead th {\n",
       "        text-align: right;\n",
       "    }\n",
       "</style>\n",
       "<table border=\"1\" class=\"dataframe\">\n",
       "  <thead>\n",
       "    <tr style=\"text-align: right;\">\n",
       "      <th></th>\n",
       "      <th>Total</th>\n",
       "      <th>Survived</th>\n",
       "      <th>Died</th>\n",
       "      <th>Survival_Probability</th>\n",
       "    </tr>\n",
       "    <tr>\n",
       "      <th>Parch</th>\n",
       "      <th></th>\n",
       "      <th></th>\n",
       "      <th></th>\n",
       "      <th></th>\n",
       "    </tr>\n",
       "  </thead>\n",
       "  <tbody>\n",
       "    <tr>\n",
       "      <th>0</th>\n",
       "      <td>678</td>\n",
       "      <td>233.0</td>\n",
       "      <td>445.0</td>\n",
       "      <td>0.34</td>\n",
       "    </tr>\n",
       "    <tr>\n",
       "      <th>1</th>\n",
       "      <td>118</td>\n",
       "      <td>65.0</td>\n",
       "      <td>53.0</td>\n",
       "      <td>0.55</td>\n",
       "    </tr>\n",
       "    <tr>\n",
       "      <th>2</th>\n",
       "      <td>80</td>\n",
       "      <td>40.0</td>\n",
       "      <td>40.0</td>\n",
       "      <td>0.50</td>\n",
       "    </tr>\n",
       "    <tr>\n",
       "      <th>3</th>\n",
       "      <td>5</td>\n",
       "      <td>3.0</td>\n",
       "      <td>2.0</td>\n",
       "      <td>0.60</td>\n",
       "    </tr>\n",
       "    <tr>\n",
       "      <th>4</th>\n",
       "      <td>4</td>\n",
       "      <td>0.0</td>\n",
       "      <td>4.0</td>\n",
       "      <td>0.00</td>\n",
       "    </tr>\n",
       "    <tr>\n",
       "      <th>5</th>\n",
       "      <td>5</td>\n",
       "      <td>1.0</td>\n",
       "      <td>4.0</td>\n",
       "      <td>0.20</td>\n",
       "    </tr>\n",
       "    <tr>\n",
       "      <th>6</th>\n",
       "      <td>1</td>\n",
       "      <td>0.0</td>\n",
       "      <td>1.0</td>\n",
       "      <td>0.00</td>\n",
       "    </tr>\n",
       "  </tbody>\n",
       "</table>\n",
       "</div>"
      ],
      "text/plain": [
       "       Total  Survived   Died  Survival_Probability\n",
       "Parch                                              \n",
       "0        678     233.0  445.0                  0.34\n",
       "1        118      65.0   53.0                  0.55\n",
       "2         80      40.0   40.0                  0.50\n",
       "3          5       3.0    2.0                  0.60\n",
       "4          4       0.0    4.0                  0.00\n",
       "5          5       1.0    4.0                  0.20\n",
       "6          1       0.0    1.0                  0.00"
      ]
     },
     "execution_count": 85,
     "metadata": {},
     "output_type": "execute_result"
    }
   ],
   "source": [
    "parch_analysis"
   ]
  },
  {
   "cell_type": "code",
   "execution_count": 86,
   "id": "a63ff025",
   "metadata": {},
   "outputs": [
    {
     "data": {
      "text/plain": [
       "Text(0, 0.5, 'Survival Probability')"
      ]
     },
     "execution_count": 86,
     "metadata": {},
     "output_type": "execute_result"
    },
    {
     "data": {
      "image/png": "[encoded data removed]",
      "text/plain": [
       "<Figure size 640x480 with 1 Axes>"
      ]
     },
     "metadata": {},
     "output_type": "display_data"
    }
   ],
   "source": [
    "# graph showing the survival probability by sibsp\n",
    "g = sns.barplot(x = parch_analysis.index,\n",
    "                y = parch_analysis['Survival_Probability'])\n",
    "\n",
    "g.set_ylabel('Survival Probability')"
   ]
  },
  {
   "cell_type": "markdown",
   "id": "dff59ddf",
   "metadata": {},
   "source": [
    "### Cabin"
   ]
  },
  {
   "cell_type": "code",
   "execution_count": 87,
   "id": "42da9ae4",
   "metadata": {},
   "outputs": [
    {
     "data": {
      "text/plain": [
       "Text(0, 0.5, 'Survival Probability')"
      ]
     },
     "execution_count": 87,
     "metadata": {},
     "output_type": "execute_result"
    },
    {
     "data": {
      "image/png": "[encoded data removed]",
      "text/plain": [
       "<Figure size 640x480 with 1 Axes>"
      ]
     },
     "metadata": {},
     "output_type": "display_data"
    }
   ],
   "source": [
    "# graph showing survival probability by whether the passenger had a cabin or not\n",
    "g = sns.barplot(x = 'Cabin', y = train_targets, data = data)\n",
    "g.set_ylabel('Survival Probability')"
   ]
  },
  {
   "cell_type": "markdown",
   "id": "578ed9a2",
   "metadata": {},
   "source": [
    "### Embarked"
   ]
  },
  {
   "cell_type": "code",
   "execution_count": 88,
   "id": "7474b219",
   "metadata": {},
   "outputs": [
    {
     "data": {
      "text/plain": [
       "PassengerId\n",
       "1    Southampton\n",
       "2      Cherbourg\n",
       "3    Southampton\n",
       "4    Southampton\n",
       "5    Southampton\n",
       "Name: Embarked, dtype: object"
      ]
     },
     "execution_count": 88,
     "metadata": {},
     "output_type": "execute_result"
    }
   ],
   "source": [
    "# taken from previous embarked analysis above\n",
    "embarked_locations_text.head()"
   ]
  },
  {
   "cell_type": "code",
   "execution_count": 89,
   "id": "a87e8358",
   "metadata": {},
   "outputs": [],
   "source": [
    "# creating an embarked dataframe\n",
    "embarked_df = pd.concat([embarked_locations_text, train_targets], axis = 1)"
   ]
  },
  {
   "cell_type": "code",
   "execution_count": 90,
   "id": "b1746732",
   "metadata": {},
   "outputs": [],
   "source": [
    "# removing null data which are the test values that have no targets, leaving only the train data\n",
    "embarked_df = embarked_df.dropna()"
   ]
  },
  {
   "cell_type": "code",
   "execution_count": 91,
   "id": "69a347ef",
   "metadata": {},
   "outputs": [],
   "source": [
    "# grouping by embarked, aggregating by count and sum\n",
    "embarked_analysis = embarked_df.groupby(embarked_df['Embarked']).Survived.agg([\"count\",\"sum\"])"
   ]
  },
  {
   "cell_type": "code",
   "execution_count": 92,
   "id": "925e2f78",
   "metadata": {},
   "outputs": [],
   "source": [
    "# renaming the columns\n",
    "embarked_analysis.rename({'count': 'Total', 'sum':'Survived'}, axis = 1, inplace = True)"
   ]
  },
  {
   "cell_type": "code",
   "execution_count": 93,
   "id": "521a2437",
   "metadata": {},
   "outputs": [],
   "source": [
    "# calculating the died column\n",
    "embarked_analysis['Died'] = embarked_analysis['Total'] - embarked_analysis['Survived']"
   ]
  },
  {
   "cell_type": "code",
   "execution_count": 94,
   "id": "990dd558",
   "metadata": {},
   "outputs": [],
   "source": [
    "# calculating the survival probability\n",
    "embarked_analysis['Survival_Probability'] = round(embarked_analysis['Survived']/embarked_analysis['Total'],2)"
   ]
  },
  {
   "cell_type": "code",
   "execution_count": 95,
   "id": "0d3dafdd",
   "metadata": {},
   "outputs": [
    {
     "data": {
      "text/html": [
       "<div>\n",
       "<style scoped>\n",
       "    .dataframe tbody tr th:only-of-type {\n",
       "        vertical-align: middle;\n",
       "    }\n",
       "\n",
       "    .dataframe tbody tr th {\n",
       "        vertical-align: top;\n",
       "    }\n",
       "\n",
       "    .dataframe thead th {\n",
       "        text-align: right;\n",
       "    }\n",
       "</style>\n",
       "<table border=\"1\" class=\"dataframe\">\n",
       "  <thead>\n",
       "    <tr style=\"text-align: right;\">\n",
       "      <th></th>\n",
       "      <th>Total</th>\n",
       "      <th>Survived</th>\n",
       "      <th>Died</th>\n",
       "      <th>Survival_Probability</th>\n",
       "    </tr>\n",
       "    <tr>\n",
       "      <th>Embarked</th>\n",
       "      <th></th>\n",
       "      <th></th>\n",
       "      <th></th>\n",
       "      <th></th>\n",
       "    </tr>\n",
       "  </thead>\n",
       "  <tbody>\n",
       "    <tr>\n",
       "      <th>Cherbourg</th>\n",
       "      <td>168</td>\n",
       "      <td>93.0</td>\n",
       "      <td>75.0</td>\n",
       "      <td>0.55</td>\n",
       "    </tr>\n",
       "    <tr>\n",
       "      <th>Queenstown</th>\n",
       "      <td>77</td>\n",
       "      <td>30.0</td>\n",
       "      <td>47.0</td>\n",
       "      <td>0.39</td>\n",
       "    </tr>\n",
       "    <tr>\n",
       "      <th>Southampton</th>\n",
       "      <td>646</td>\n",
       "      <td>219.0</td>\n",
       "      <td>427.0</td>\n",
       "      <td>0.34</td>\n",
       "    </tr>\n",
       "  </tbody>\n",
       "</table>\n",
       "</div>"
      ],
      "text/plain": [
       "             Total  Survived   Died  Survival_Probability\n",
       "Embarked                                                 \n",
       "Cherbourg      168      93.0   75.0                  0.55\n",
       "Queenstown      77      30.0   47.0                  0.39\n",
       "Southampton    646     219.0  427.0                  0.34"
      ]
     },
     "execution_count": 95,
     "metadata": {},
     "output_type": "execute_result"
    }
   ],
   "source": [
    "embarked_analysis"
   ]
  },
  {
   "cell_type": "code",
   "execution_count": 96,
   "id": "fdb2ea97",
   "metadata": {},
   "outputs": [
    {
     "data": {
      "text/plain": [
       "Text(0, 0.5, 'Survival Probability')"
      ]
     },
     "execution_count": 96,
     "metadata": {},
     "output_type": "execute_result"
    },
    {
     "data": {
      "image/png": "[encoded data removed]",
      "text/plain": [
       "<Figure size 640x480 with 1 Axes>"
      ]
     },
     "metadata": {},
     "output_type": "display_data"
    }
   ],
   "source": [
    "# graph showing survival probability by where the passenger embarked\n",
    "g = sns.barplot(x = embarked_analysis.index,\n",
    "                y = embarked_analysis['Survival_Probability'])\n",
    "\n",
    "g.set_ylabel('Survival Probability')"
   ]
  },
  {
   "cell_type": "markdown",
   "id": "66db9c3f",
   "metadata": {},
   "source": [
    "## Scaling The Data"
   ]
  },
  {
   "cell_type": "markdown",
   "id": "d4fb7448",
   "metadata": {},
   "source": [
    "scaling is required to enchance the machine learning model"
   ]
  },
  {
   "cell_type": "code",
   "execution_count": 97,
   "id": "0ca73c4a",
   "metadata": {},
   "outputs": [],
   "source": [
    "# picking the columns with numeric values to scale\n",
    "columns_to_scale = ['Age', 'SibSp', 'Parch', 'Fare']"
   ]
  },
  {
   "cell_type": "code",
   "execution_count": 98,
   "id": "cc8eb350",
   "metadata": {},
   "outputs": [],
   "source": [
    "# creating a seperate dataframe for the scaled columns\n",
    "data_to_scale = data[columns_to_scale]"
   ]
  },
  {
   "cell_type": "code",
   "execution_count": 99,
   "id": "91e6c9b1",
   "metadata": {},
   "outputs": [
    {
     "data": {
      "text/html": [
       "<div>\n",
       "<style scoped>\n",
       "    .dataframe tbody tr th:only-of-type {\n",
       "        vertical-align: middle;\n",
       "    }\n",
       "\n",
       "    .dataframe tbody tr th {\n",
       "        vertical-align: top;\n",
       "    }\n",
       "\n",
       "    .dataframe thead th {\n",
       "        text-align: right;\n",
       "    }\n",
       "</style>\n",
       "<table border=\"1\" class=\"dataframe\">\n",
       "  <thead>\n",
       "    <tr style=\"text-align: right;\">\n",
       "      <th></th>\n",
       "      <th>Age</th>\n",
       "      <th>SibSp</th>\n",
       "      <th>Parch</th>\n",
       "      <th>Fare</th>\n",
       "    </tr>\n",
       "    <tr>\n",
       "      <th>PassengerId</th>\n",
       "      <th></th>\n",
       "      <th></th>\n",
       "      <th></th>\n",
       "      <th></th>\n",
       "    </tr>\n",
       "  </thead>\n",
       "  <tbody>\n",
       "    <tr>\n",
       "      <th>1</th>\n",
       "      <td>22.0</td>\n",
       "      <td>1</td>\n",
       "      <td>0</td>\n",
       "      <td>7.2500</td>\n",
       "    </tr>\n",
       "    <tr>\n",
       "      <th>2</th>\n",
       "      <td>38.0</td>\n",
       "      <td>1</td>\n",
       "      <td>0</td>\n",
       "      <td>71.2833</td>\n",
       "    </tr>\n",
       "    <tr>\n",
       "      <th>3</th>\n",
       "      <td>26.0</td>\n",
       "      <td>0</td>\n",
       "      <td>0</td>\n",
       "      <td>7.9250</td>\n",
       "    </tr>\n",
       "    <tr>\n",
       "      <th>4</th>\n",
       "      <td>35.0</td>\n",
       "      <td>1</td>\n",
       "      <td>0</td>\n",
       "      <td>53.1000</td>\n",
       "    </tr>\n",
       "    <tr>\n",
       "      <th>5</th>\n",
       "      <td>35.0</td>\n",
       "      <td>0</td>\n",
       "      <td>0</td>\n",
       "      <td>8.0500</td>\n",
       "    </tr>\n",
       "  </tbody>\n",
       "</table>\n",
       "</div>"
      ],
      "text/plain": [
       "              Age  SibSp  Parch     Fare\n",
       "PassengerId                             \n",
       "1            22.0      1      0   7.2500\n",
       "2            38.0      1      0  71.2833\n",
       "3            26.0      0      0   7.9250\n",
       "4            35.0      1      0  53.1000\n",
       "5            35.0      0      0   8.0500"
      ]
     },
     "execution_count": 99,
     "metadata": {},
     "output_type": "execute_result"
    }
   ],
   "source": [
    "data_to_scale.head()"
   ]
  },
  {
   "cell_type": "code",
   "execution_count": 100,
   "id": "5960d31e",
   "metadata": {},
   "outputs": [],
   "source": [
    "# importing the relevant scaling module\n",
    "from sklearn.preprocessing import StandardScaler"
   ]
  },
  {
   "cell_type": "code",
   "execution_count": 101,
   "id": "4e2637da",
   "metadata": {},
   "outputs": [
    {
     "data": {
      "text/plain": [
       "StandardScaler()"
      ]
     },
     "execution_count": 101,
     "metadata": {},
     "output_type": "execute_result"
    }
   ],
   "source": [
    "# creating the scaler object and fitting it to the data\n",
    "scaler = StandardScaler()\n",
    "scaler.fit(data_to_scale)"
   ]
  },
  {
   "cell_type": "code",
   "execution_count": 102,
   "id": "e90af416",
   "metadata": {},
   "outputs": [],
   "source": [
    "# scaling the data using scaler object\n",
    "data_scaled = scaler.transform(data_to_scale)"
   ]
  },
  {
   "cell_type": "code",
   "execution_count": 103,
   "id": "bcac74b0",
   "metadata": {},
   "outputs": [
    {
     "data": {
      "text/plain": [
       "array([[-0.61197171,  0.48128777, -0.4449995 , -0.50359486],\n",
       "       [ 0.63043107,  0.48128777, -0.4449995 ,  0.73450256],\n",
       "       [-0.30137101, -0.47908676, -0.4449995 , -0.49054359],\n",
       "       ...,\n",
       "       [ 0.66925616, -0.47908676, -0.4449995 , -0.50359486],\n",
       "       [ 0.        , -0.47908676, -0.4449995 , -0.48812669],\n",
       "       [ 0.        ,  0.48128777,  0.71076309, -0.21147268]])"
      ]
     },
     "execution_count": 103,
     "metadata": {},
     "output_type": "execute_result"
    }
   ],
   "source": [
    "data_scaled"
   ]
  },
  {
   "cell_type": "code",
   "execution_count": 104,
   "id": "6516b4a9",
   "metadata": {},
   "outputs": [],
   "source": [
    "# creating a dataframe to store the scaled data\n",
    "data_scaled_df = pd.DataFrame(data = data_scaled, columns = columns_to_scale)"
   ]
  },
  {
   "cell_type": "code",
   "execution_count": 105,
   "id": "e53fdbdc",
   "metadata": {},
   "outputs": [],
   "source": [
    "# adding 1 to the index so the index starts at the same value as the train targets index\n",
    "data_scaled_df.index = data_scaled_df.index + 1"
   ]
  },
  {
   "cell_type": "code",
   "execution_count": 106,
   "id": "7dd8305c",
   "metadata": {},
   "outputs": [
    {
     "data": {
      "text/html": [
       "<div>\n",
       "<style scoped>\n",
       "    .dataframe tbody tr th:only-of-type {\n",
       "        vertical-align: middle;\n",
       "    }\n",
       "\n",
       "    .dataframe tbody tr th {\n",
       "        vertical-align: top;\n",
       "    }\n",
       "\n",
       "    .dataframe thead th {\n",
       "        text-align: right;\n",
       "    }\n",
       "</style>\n",
       "<table border=\"1\" class=\"dataframe\">\n",
       "  <thead>\n",
       "    <tr style=\"text-align: right;\">\n",
       "      <th></th>\n",
       "      <th>Age</th>\n",
       "      <th>SibSp</th>\n",
       "      <th>Parch</th>\n",
       "      <th>Fare</th>\n",
       "    </tr>\n",
       "  </thead>\n",
       "  <tbody>\n",
       "    <tr>\n",
       "      <th>1</th>\n",
       "      <td>-0.611972</td>\n",
       "      <td>0.481288</td>\n",
       "      <td>-0.445</td>\n",
       "      <td>-0.503595</td>\n",
       "    </tr>\n",
       "    <tr>\n",
       "      <th>2</th>\n",
       "      <td>0.630431</td>\n",
       "      <td>0.481288</td>\n",
       "      <td>-0.445</td>\n",
       "      <td>0.734503</td>\n",
       "    </tr>\n",
       "    <tr>\n",
       "      <th>3</th>\n",
       "      <td>-0.301371</td>\n",
       "      <td>-0.479087</td>\n",
       "      <td>-0.445</td>\n",
       "      <td>-0.490544</td>\n",
       "    </tr>\n",
       "    <tr>\n",
       "      <th>4</th>\n",
       "      <td>0.397481</td>\n",
       "      <td>0.481288</td>\n",
       "      <td>-0.445</td>\n",
       "      <td>0.382925</td>\n",
       "    </tr>\n",
       "    <tr>\n",
       "      <th>5</th>\n",
       "      <td>0.397481</td>\n",
       "      <td>-0.479087</td>\n",
       "      <td>-0.445</td>\n",
       "      <td>-0.488127</td>\n",
       "    </tr>\n",
       "  </tbody>\n",
       "</table>\n",
       "</div>"
      ],
      "text/plain": [
       "        Age     SibSp  Parch      Fare\n",
       "1 -0.611972  0.481288 -0.445 -0.503595\n",
       "2  0.630431  0.481288 -0.445  0.734503\n",
       "3 -0.301371 -0.479087 -0.445 -0.490544\n",
       "4  0.397481  0.481288 -0.445  0.382925\n",
       "5  0.397481 -0.479087 -0.445 -0.488127"
      ]
     },
     "execution_count": 106,
     "metadata": {},
     "output_type": "execute_result"
    }
   ],
   "source": [
    "data_scaled_df.head()"
   ]
  },
  {
   "cell_type": "markdown",
   "id": "ccc2dd7c",
   "metadata": {},
   "source": [
    "## Creating dummy variables"
   ]
  },
  {
   "cell_type": "markdown",
   "id": "6861e248",
   "metadata": {},
   "source": [
    "dummy variables are required to included categorical data into the machine learning model"
   ]
  },
  {
   "cell_type": "code",
   "execution_count": 107,
   "id": "cad5721b",
   "metadata": {},
   "outputs": [],
   "source": [
    "# selecting the columns to make dummy variables with\n",
    "data_dummies_to_make = data.drop(columns_to_scale, axis = 1)"
   ]
  },
  {
   "cell_type": "code",
   "execution_count": 108,
   "id": "a0b43f0c",
   "metadata": {},
   "outputs": [
    {
     "data": {
      "text/html": [
       "<div>\n",
       "<style scoped>\n",
       "    .dataframe tbody tr th:only-of-type {\n",
       "        vertical-align: middle;\n",
       "    }\n",
       "\n",
       "    .dataframe tbody tr th {\n",
       "        vertical-align: top;\n",
       "    }\n",
       "\n",
       "    .dataframe thead th {\n",
       "        text-align: right;\n",
       "    }\n",
       "</style>\n",
       "<table border=\"1\" class=\"dataframe\">\n",
       "  <thead>\n",
       "    <tr style=\"text-align: right;\">\n",
       "      <th></th>\n",
       "      <th>Pclass</th>\n",
       "      <th>Sex</th>\n",
       "      <th>Cabin</th>\n",
       "      <th>Embarked</th>\n",
       "    </tr>\n",
       "    <tr>\n",
       "      <th>PassengerId</th>\n",
       "      <th></th>\n",
       "      <th></th>\n",
       "      <th></th>\n",
       "      <th></th>\n",
       "    </tr>\n",
       "  </thead>\n",
       "  <tbody>\n",
       "    <tr>\n",
       "      <th>1</th>\n",
       "      <td>Third</td>\n",
       "      <td>male</td>\n",
       "      <td>0</td>\n",
       "      <td>S</td>\n",
       "    </tr>\n",
       "    <tr>\n",
       "      <th>2</th>\n",
       "      <td>First</td>\n",
       "      <td>female</td>\n",
       "      <td>1</td>\n",
       "      <td>C</td>\n",
       "    </tr>\n",
       "    <tr>\n",
       "      <th>3</th>\n",
       "      <td>Third</td>\n",
       "      <td>female</td>\n",
       "      <td>0</td>\n",
       "      <td>S</td>\n",
       "    </tr>\n",
       "    <tr>\n",
       "      <th>4</th>\n",
       "      <td>First</td>\n",
       "      <td>female</td>\n",
       "      <td>1</td>\n",
       "      <td>S</td>\n",
       "    </tr>\n",
       "    <tr>\n",
       "      <th>5</th>\n",
       "      <td>Third</td>\n",
       "      <td>male</td>\n",
       "      <td>0</td>\n",
       "      <td>S</td>\n",
       "    </tr>\n",
       "    <tr>\n",
       "      <th>...</th>\n",
       "      <td>...</td>\n",
       "      <td>...</td>\n",
       "      <td>...</td>\n",
       "      <td>...</td>\n",
       "    </tr>\n",
       "    <tr>\n",
       "      <th>1305</th>\n",
       "      <td>Third</td>\n",
       "      <td>male</td>\n",
       "      <td>0</td>\n",
       "      <td>S</td>\n",
       "    </tr>\n",
       "    <tr>\n",
       "      <th>1306</th>\n",
       "      <td>First</td>\n",
       "      <td>female</td>\n",
       "      <td>1</td>\n",
       "      <td>C</td>\n",
       "    </tr>\n",
       "    <tr>\n",
       "      <th>1307</th>\n",
       "      <td>Third</td>\n",
       "      <td>male</td>\n",
       "      <td>0</td>\n",
       "      <td>S</td>\n",
       "    </tr>\n",
       "    <tr>\n",
       "      <th>1308</th>\n",
       "      <td>Third</td>\n",
       "      <td>male</td>\n",
       "      <td>0</td>\n",
       "      <td>S</td>\n",
       "    </tr>\n",
       "    <tr>\n",
       "      <th>1309</th>\n",
       "      <td>Third</td>\n",
       "      <td>male</td>\n",
       "      <td>0</td>\n",
       "      <td>C</td>\n",
       "    </tr>\n",
       "  </tbody>\n",
       "</table>\n",
       "<p>1309 rows × 4 columns</p>\n",
       "</div>"
      ],
      "text/plain": [
       "            Pclass     Sex  Cabin Embarked\n",
       "PassengerId                               \n",
       "1            Third    male      0        S\n",
       "2            First  female      1        C\n",
       "3            Third  female      0        S\n",
       "4            First  female      1        S\n",
       "5            Third    male      0        S\n",
       "...            ...     ...    ...      ...\n",
       "1305         Third    male      0        S\n",
       "1306         First  female      1        C\n",
       "1307         Third    male      0        S\n",
       "1308         Third    male      0        S\n",
       "1309         Third    male      0        C\n",
       "\n",
       "[1309 rows x 4 columns]"
      ]
     },
     "execution_count": 108,
     "metadata": {},
     "output_type": "execute_result"
    }
   ],
   "source": [
    "data_dummies_to_make"
   ]
  },
  {
   "cell_type": "code",
   "execution_count": 109,
   "id": "7bbbfa86",
   "metadata": {},
   "outputs": [],
   "source": [
    "# 'Cabin' column has already been made into a dummy variable so is dropped\n",
    "data_dummies_to_make.drop('Cabin', axis =  1, inplace = True)"
   ]
  },
  {
   "cell_type": "code",
   "execution_count": 110,
   "id": "cca1a95e",
   "metadata": {},
   "outputs": [
    {
     "data": {
      "text/html": [
       "<div>\n",
       "<style scoped>\n",
       "    .dataframe tbody tr th:only-of-type {\n",
       "        vertical-align: middle;\n",
       "    }\n",
       "\n",
       "    .dataframe tbody tr th {\n",
       "        vertical-align: top;\n",
       "    }\n",
       "\n",
       "    .dataframe thead th {\n",
       "        text-align: right;\n",
       "    }\n",
       "</style>\n",
       "<table border=\"1\" class=\"dataframe\">\n",
       "  <thead>\n",
       "    <tr style=\"text-align: right;\">\n",
       "      <th></th>\n",
       "      <th>Pclass</th>\n",
       "      <th>Sex</th>\n",
       "      <th>Embarked</th>\n",
       "    </tr>\n",
       "    <tr>\n",
       "      <th>PassengerId</th>\n",
       "      <th></th>\n",
       "      <th></th>\n",
       "      <th></th>\n",
       "    </tr>\n",
       "  </thead>\n",
       "  <tbody>\n",
       "    <tr>\n",
       "      <th>1</th>\n",
       "      <td>Third</td>\n",
       "      <td>male</td>\n",
       "      <td>S</td>\n",
       "    </tr>\n",
       "    <tr>\n",
       "      <th>2</th>\n",
       "      <td>First</td>\n",
       "      <td>female</td>\n",
       "      <td>C</td>\n",
       "    </tr>\n",
       "    <tr>\n",
       "      <th>3</th>\n",
       "      <td>Third</td>\n",
       "      <td>female</td>\n",
       "      <td>S</td>\n",
       "    </tr>\n",
       "    <tr>\n",
       "      <th>4</th>\n",
       "      <td>First</td>\n",
       "      <td>female</td>\n",
       "      <td>S</td>\n",
       "    </tr>\n",
       "    <tr>\n",
       "      <th>5</th>\n",
       "      <td>Third</td>\n",
       "      <td>male</td>\n",
       "      <td>S</td>\n",
       "    </tr>\n",
       "  </tbody>\n",
       "</table>\n",
       "</div>"
      ],
      "text/plain": [
       "            Pclass     Sex Embarked\n",
       "PassengerId                        \n",
       "1            Third    male        S\n",
       "2            First  female        C\n",
       "3            Third  female        S\n",
       "4            First  female        S\n",
       "5            Third    male        S"
      ]
     },
     "execution_count": 110,
     "metadata": {},
     "output_type": "execute_result"
    }
   ],
   "source": [
    "data_dummies_to_make.head()"
   ]
  },
  {
   "cell_type": "code",
   "execution_count": 111,
   "id": "232e5cd1",
   "metadata": {},
   "outputs": [],
   "source": [
    "# making the dummy variables and dropping the first to avoid multicollinearity\n",
    "data_dummies = pd.get_dummies(data_dummies_to_make, drop_first = True)"
   ]
  },
  {
   "cell_type": "code",
   "execution_count": 112,
   "id": "ff232f82",
   "metadata": {},
   "outputs": [
    {
     "data": {
      "text/html": [
       "<div>\n",
       "<style scoped>\n",
       "    .dataframe tbody tr th:only-of-type {\n",
       "        vertical-align: middle;\n",
       "    }\n",
       "\n",
       "    .dataframe tbody tr th {\n",
       "        vertical-align: top;\n",
       "    }\n",
       "\n",
       "    .dataframe thead th {\n",
       "        text-align: right;\n",
       "    }\n",
       "</style>\n",
       "<table border=\"1\" class=\"dataframe\">\n",
       "  <thead>\n",
       "    <tr style=\"text-align: right;\">\n",
       "      <th></th>\n",
       "      <th>Pclass_Second</th>\n",
       "      <th>Pclass_Third</th>\n",
       "      <th>Sex_male</th>\n",
       "      <th>Embarked_Q</th>\n",
       "      <th>Embarked_S</th>\n",
       "    </tr>\n",
       "    <tr>\n",
       "      <th>PassengerId</th>\n",
       "      <th></th>\n",
       "      <th></th>\n",
       "      <th></th>\n",
       "      <th></th>\n",
       "      <th></th>\n",
       "    </tr>\n",
       "  </thead>\n",
       "  <tbody>\n",
       "    <tr>\n",
       "      <th>1</th>\n",
       "      <td>0</td>\n",
       "      <td>1</td>\n",
       "      <td>1</td>\n",
       "      <td>0</td>\n",
       "      <td>1</td>\n",
       "    </tr>\n",
       "    <tr>\n",
       "      <th>2</th>\n",
       "      <td>0</td>\n",
       "      <td>0</td>\n",
       "      <td>0</td>\n",
       "      <td>0</td>\n",
       "      <td>0</td>\n",
       "    </tr>\n",
       "    <tr>\n",
       "      <th>3</th>\n",
       "      <td>0</td>\n",
       "      <td>1</td>\n",
       "      <td>0</td>\n",
       "      <td>0</td>\n",
       "      <td>1</td>\n",
       "    </tr>\n",
       "    <tr>\n",
       "      <th>4</th>\n",
       "      <td>0</td>\n",
       "      <td>0</td>\n",
       "      <td>0</td>\n",
       "      <td>0</td>\n",
       "      <td>1</td>\n",
       "    </tr>\n",
       "    <tr>\n",
       "      <th>5</th>\n",
       "      <td>0</td>\n",
       "      <td>1</td>\n",
       "      <td>1</td>\n",
       "      <td>0</td>\n",
       "      <td>1</td>\n",
       "    </tr>\n",
       "  </tbody>\n",
       "</table>\n",
       "</div>"
      ],
      "text/plain": [
       "             Pclass_Second  Pclass_Third  Sex_male  Embarked_Q  Embarked_S\n",
       "PassengerId                                                               \n",
       "1                        0             1         1           0           1\n",
       "2                        0             0         0           0           0\n",
       "3                        0             1         0           0           1\n",
       "4                        0             0         0           0           1\n",
       "5                        0             1         1           0           1"
      ]
     },
     "execution_count": 112,
     "metadata": {},
     "output_type": "execute_result"
    }
   ],
   "source": [
    "data_dummies.head()"
   ]
  },
  {
   "cell_type": "code",
   "execution_count": 113,
   "id": "71e96de9",
   "metadata": {},
   "outputs": [],
   "source": [
    "# re combining the scaled data, dummy variable and cabin columns.\n",
    "data_processed = pd.concat([data_scaled_df, data_dummies, cabin], axis = 1)"
   ]
  },
  {
   "cell_type": "code",
   "execution_count": 114,
   "id": "f8b3bee0",
   "metadata": {},
   "outputs": [
    {
     "data": {
      "text/html": [
       "<div>\n",
       "<style scoped>\n",
       "    .dataframe tbody tr th:only-of-type {\n",
       "        vertical-align: middle;\n",
       "    }\n",
       "\n",
       "    .dataframe tbody tr th {\n",
       "        vertical-align: top;\n",
       "    }\n",
       "\n",
       "    .dataframe thead th {\n",
       "        text-align: right;\n",
       "    }\n",
       "</style>\n",
       "<table border=\"1\" class=\"dataframe\">\n",
       "  <thead>\n",
       "    <tr style=\"text-align: right;\">\n",
       "      <th></th>\n",
       "      <th>Age</th>\n",
       "      <th>SibSp</th>\n",
       "      <th>Parch</th>\n",
       "      <th>Fare</th>\n",
       "      <th>Pclass_Second</th>\n",
       "      <th>Pclass_Third</th>\n",
       "      <th>Sex_male</th>\n",
       "      <th>Embarked_Q</th>\n",
       "      <th>Embarked_S</th>\n",
       "      <th>Cabin</th>\n",
       "    </tr>\n",
       "    <tr>\n",
       "      <th>PassengerId</th>\n",
       "      <th></th>\n",
       "      <th></th>\n",
       "      <th></th>\n",
       "      <th></th>\n",
       "      <th></th>\n",
       "      <th></th>\n",
       "      <th></th>\n",
       "      <th></th>\n",
       "      <th></th>\n",
       "      <th></th>\n",
       "    </tr>\n",
       "  </thead>\n",
       "  <tbody>\n",
       "    <tr>\n",
       "      <th>1</th>\n",
       "      <td>-0.611972</td>\n",
       "      <td>0.481288</td>\n",
       "      <td>-0.445000</td>\n",
       "      <td>-0.503595</td>\n",
       "      <td>0</td>\n",
       "      <td>1</td>\n",
       "      <td>1</td>\n",
       "      <td>0</td>\n",
       "      <td>1</td>\n",
       "      <td>0</td>\n",
       "    </tr>\n",
       "    <tr>\n",
       "      <th>2</th>\n",
       "      <td>0.630431</td>\n",
       "      <td>0.481288</td>\n",
       "      <td>-0.445000</td>\n",
       "      <td>0.734503</td>\n",
       "      <td>0</td>\n",
       "      <td>0</td>\n",
       "      <td>0</td>\n",
       "      <td>0</td>\n",
       "      <td>0</td>\n",
       "      <td>1</td>\n",
       "    </tr>\n",
       "    <tr>\n",
       "      <th>3</th>\n",
       "      <td>-0.301371</td>\n",
       "      <td>-0.479087</td>\n",
       "      <td>-0.445000</td>\n",
       "      <td>-0.490544</td>\n",
       "      <td>0</td>\n",
       "      <td>1</td>\n",
       "      <td>0</td>\n",
       "      <td>0</td>\n",
       "      <td>1</td>\n",
       "      <td>0</td>\n",
       "    </tr>\n",
       "    <tr>\n",
       "      <th>4</th>\n",
       "      <td>0.397481</td>\n",
       "      <td>0.481288</td>\n",
       "      <td>-0.445000</td>\n",
       "      <td>0.382925</td>\n",
       "      <td>0</td>\n",
       "      <td>0</td>\n",
       "      <td>0</td>\n",
       "      <td>0</td>\n",
       "      <td>1</td>\n",
       "      <td>1</td>\n",
       "    </tr>\n",
       "    <tr>\n",
       "      <th>5</th>\n",
       "      <td>0.397481</td>\n",
       "      <td>-0.479087</td>\n",
       "      <td>-0.445000</td>\n",
       "      <td>-0.488127</td>\n",
       "      <td>0</td>\n",
       "      <td>1</td>\n",
       "      <td>1</td>\n",
       "      <td>0</td>\n",
       "      <td>1</td>\n",
       "      <td>0</td>\n",
       "    </tr>\n",
       "    <tr>\n",
       "      <th>...</th>\n",
       "      <td>...</td>\n",
       "      <td>...</td>\n",
       "      <td>...</td>\n",
       "      <td>...</td>\n",
       "      <td>...</td>\n",
       "      <td>...</td>\n",
       "      <td>...</td>\n",
       "      <td>...</td>\n",
       "      <td>...</td>\n",
       "      <td>...</td>\n",
       "    </tr>\n",
       "    <tr>\n",
       "      <th>1305</th>\n",
       "      <td>0.000000</td>\n",
       "      <td>-0.479087</td>\n",
       "      <td>-0.445000</td>\n",
       "      <td>-0.488127</td>\n",
       "      <td>0</td>\n",
       "      <td>1</td>\n",
       "      <td>1</td>\n",
       "      <td>0</td>\n",
       "      <td>1</td>\n",
       "      <td>0</td>\n",
       "    </tr>\n",
       "    <tr>\n",
       "      <th>1306</th>\n",
       "      <td>0.708081</td>\n",
       "      <td>-0.479087</td>\n",
       "      <td>-0.445000</td>\n",
       "      <td>1.461829</td>\n",
       "      <td>0</td>\n",
       "      <td>0</td>\n",
       "      <td>0</td>\n",
       "      <td>0</td>\n",
       "      <td>0</td>\n",
       "      <td>1</td>\n",
       "    </tr>\n",
       "    <tr>\n",
       "      <th>1307</th>\n",
       "      <td>0.669256</td>\n",
       "      <td>-0.479087</td>\n",
       "      <td>-0.445000</td>\n",
       "      <td>-0.503595</td>\n",
       "      <td>0</td>\n",
       "      <td>1</td>\n",
       "      <td>1</td>\n",
       "      <td>0</td>\n",
       "      <td>1</td>\n",
       "      <td>0</td>\n",
       "    </tr>\n",
       "    <tr>\n",
       "      <th>1308</th>\n",
       "      <td>0.000000</td>\n",
       "      <td>-0.479087</td>\n",
       "      <td>-0.445000</td>\n",
       "      <td>-0.488127</td>\n",
       "      <td>0</td>\n",
       "      <td>1</td>\n",
       "      <td>1</td>\n",
       "      <td>0</td>\n",
       "      <td>1</td>\n",
       "      <td>0</td>\n",
       "    </tr>\n",
       "    <tr>\n",
       "      <th>1309</th>\n",
       "      <td>0.000000</td>\n",
       "      <td>0.481288</td>\n",
       "      <td>0.710763</td>\n",
       "      <td>-0.211473</td>\n",
       "      <td>0</td>\n",
       "      <td>1</td>\n",
       "      <td>1</td>\n",
       "      <td>0</td>\n",
       "      <td>0</td>\n",
       "      <td>0</td>\n",
       "    </tr>\n",
       "  </tbody>\n",
       "</table>\n",
       "<p>1309 rows × 10 columns</p>\n",
       "</div>"
      ],
      "text/plain": [
       "                  Age     SibSp     Parch      Fare  Pclass_Second  \\\n",
       "PassengerId                                                          \n",
       "1           -0.611972  0.481288 -0.445000 -0.503595              0   \n",
       "2            0.630431  0.481288 -0.445000  0.734503              0   \n",
       "3           -0.301371 -0.479087 -0.445000 -0.490544              0   \n",
       "4            0.397481  0.481288 -0.445000  0.382925              0   \n",
       "5            0.397481 -0.479087 -0.445000 -0.488127              0   \n",
       "...               ...       ...       ...       ...            ...   \n",
       "1305         0.000000 -0.479087 -0.445000 -0.488127              0   \n",
       "1306         0.708081 -0.479087 -0.445000  1.461829              0   \n",
       "1307         0.669256 -0.479087 -0.445000 -0.503595              0   \n",
       "1308         0.000000 -0.479087 -0.445000 -0.488127              0   \n",
       "1309         0.000000  0.481288  0.710763 -0.211473              0   \n",
       "\n",
       "             Pclass_Third  Sex_male  Embarked_Q  Embarked_S  Cabin  \n",
       "PassengerId                                                         \n",
       "1                       1         1           0           1      0  \n",
       "2                       0         0           0           0      1  \n",
       "3                       1         0           0           1      0  \n",
       "4                       0         0           0           1      1  \n",
       "5                       1         1           0           1      0  \n",
       "...                   ...       ...         ...         ...    ...  \n",
       "1305                    1         1           0           1      0  \n",
       "1306                    0         0           0           0      1  \n",
       "1307                    1         1           0           1      0  \n",
       "1308                    1         1           0           1      0  \n",
       "1309                    1         1           0           0      0  \n",
       "\n",
       "[1309 rows x 10 columns]"
      ]
     },
     "execution_count": 114,
     "metadata": {},
     "output_type": "execute_result"
    }
   ],
   "source": [
    "# renaming the index to passenger id.\n",
    "data_processed.rename_axis('PassengerId')"
   ]
  },
  {
   "cell_type": "markdown",
   "id": "a25f25a4",
   "metadata": {},
   "source": [
    "## Spliting the test and train data sets"
   ]
  },
  {
   "cell_type": "code",
   "execution_count": 115,
   "id": "4fb20a79",
   "metadata": {},
   "outputs": [
    {
     "data": {
      "text/plain": [
       "Int64Index([ 892,  893,  894,  895,  896,  897,  898,  899,  900,  901,\n",
       "            ...\n",
       "            1300, 1301, 1302, 1303, 1304, 1305, 1306, 1307, 1308, 1309],\n",
       "           dtype='int64', name='PassengerId', length=418)"
      ]
     },
     "execution_count": 115,
     "metadata": {},
     "output_type": "execute_result"
    }
   ],
   "source": [
    "# reminder of the test index which included all the test index values\n",
    "test_index"
   ]
  },
  {
   "cell_type": "code",
   "execution_count": 116,
   "id": "2be0542b",
   "metadata": {},
   "outputs": [
    {
     "data": {
      "text/html": [
       "<div>\n",
       "<style scoped>\n",
       "    .dataframe tbody tr th:only-of-type {\n",
       "        vertical-align: middle;\n",
       "    }\n",
       "\n",
       "    .dataframe tbody tr th {\n",
       "        vertical-align: top;\n",
       "    }\n",
       "\n",
       "    .dataframe thead th {\n",
       "        text-align: right;\n",
       "    }\n",
       "</style>\n",
       "<table border=\"1\" class=\"dataframe\">\n",
       "  <thead>\n",
       "    <tr style=\"text-align: right;\">\n",
       "      <th></th>\n",
       "      <th>Age</th>\n",
       "      <th>SibSp</th>\n",
       "      <th>Parch</th>\n",
       "      <th>Fare</th>\n",
       "      <th>Pclass_Second</th>\n",
       "      <th>Pclass_Third</th>\n",
       "      <th>Sex_male</th>\n",
       "      <th>Embarked_Q</th>\n",
       "      <th>Embarked_S</th>\n",
       "      <th>Cabin</th>\n",
       "    </tr>\n",
       "    <tr>\n",
       "      <th>PassengerId</th>\n",
       "      <th></th>\n",
       "      <th></th>\n",
       "      <th></th>\n",
       "      <th></th>\n",
       "      <th></th>\n",
       "      <th></th>\n",
       "      <th></th>\n",
       "      <th></th>\n",
       "      <th></th>\n",
       "      <th></th>\n",
       "    </tr>\n",
       "  </thead>\n",
       "  <tbody>\n",
       "    <tr>\n",
       "      <th>892</th>\n",
       "      <td>0.358655</td>\n",
       "      <td>-0.479087</td>\n",
       "      <td>-0.445000</td>\n",
       "      <td>-0.492396</td>\n",
       "      <td>0</td>\n",
       "      <td>1</td>\n",
       "      <td>1</td>\n",
       "      <td>1</td>\n",
       "      <td>0</td>\n",
       "      <td>0</td>\n",
       "    </tr>\n",
       "    <tr>\n",
       "      <th>893</th>\n",
       "      <td>1.329283</td>\n",
       "      <td>0.481288</td>\n",
       "      <td>-0.445000</td>\n",
       "      <td>-0.508429</td>\n",
       "      <td>0</td>\n",
       "      <td>1</td>\n",
       "      <td>0</td>\n",
       "      <td>0</td>\n",
       "      <td>1</td>\n",
       "      <td>0</td>\n",
       "    </tr>\n",
       "    <tr>\n",
       "      <th>894</th>\n",
       "      <td>2.494035</td>\n",
       "      <td>-0.479087</td>\n",
       "      <td>-0.445000</td>\n",
       "      <td>-0.456465</td>\n",
       "      <td>1</td>\n",
       "      <td>0</td>\n",
       "      <td>1</td>\n",
       "      <td>1</td>\n",
       "      <td>0</td>\n",
       "      <td>0</td>\n",
       "    </tr>\n",
       "    <tr>\n",
       "      <th>895</th>\n",
       "      <td>-0.223721</td>\n",
       "      <td>-0.479087</td>\n",
       "      <td>-0.445000</td>\n",
       "      <td>-0.476284</td>\n",
       "      <td>0</td>\n",
       "      <td>1</td>\n",
       "      <td>1</td>\n",
       "      <td>0</td>\n",
       "      <td>1</td>\n",
       "      <td>0</td>\n",
       "    </tr>\n",
       "    <tr>\n",
       "      <th>896</th>\n",
       "      <td>-0.611972</td>\n",
       "      <td>0.481288</td>\n",
       "      <td>0.710763</td>\n",
       "      <td>-0.406194</td>\n",
       "      <td>0</td>\n",
       "      <td>1</td>\n",
       "      <td>0</td>\n",
       "      <td>0</td>\n",
       "      <td>1</td>\n",
       "      <td>0</td>\n",
       "    </tr>\n",
       "    <tr>\n",
       "      <th>...</th>\n",
       "      <td>...</td>\n",
       "      <td>...</td>\n",
       "      <td>...</td>\n",
       "      <td>...</td>\n",
       "      <td>...</td>\n",
       "      <td>...</td>\n",
       "      <td>...</td>\n",
       "      <td>...</td>\n",
       "      <td>...</td>\n",
       "      <td>...</td>\n",
       "    </tr>\n",
       "    <tr>\n",
       "      <th>1305</th>\n",
       "      <td>0.000000</td>\n",
       "      <td>-0.479087</td>\n",
       "      <td>-0.445000</td>\n",
       "      <td>-0.488127</td>\n",
       "      <td>0</td>\n",
       "      <td>1</td>\n",
       "      <td>1</td>\n",
       "      <td>0</td>\n",
       "      <td>1</td>\n",
       "      <td>0</td>\n",
       "    </tr>\n",
       "    <tr>\n",
       "      <th>1306</th>\n",
       "      <td>0.708081</td>\n",
       "      <td>-0.479087</td>\n",
       "      <td>-0.445000</td>\n",
       "      <td>1.461829</td>\n",
       "      <td>0</td>\n",
       "      <td>0</td>\n",
       "      <td>0</td>\n",
       "      <td>0</td>\n",
       "      <td>0</td>\n",
       "      <td>1</td>\n",
       "    </tr>\n",
       "    <tr>\n",
       "      <th>1307</th>\n",
       "      <td>0.669256</td>\n",
       "      <td>-0.479087</td>\n",
       "      <td>-0.445000</td>\n",
       "      <td>-0.503595</td>\n",
       "      <td>0</td>\n",
       "      <td>1</td>\n",
       "      <td>1</td>\n",
       "      <td>0</td>\n",
       "      <td>1</td>\n",
       "      <td>0</td>\n",
       "    </tr>\n",
       "    <tr>\n",
       "      <th>1308</th>\n",
       "      <td>0.000000</td>\n",
       "      <td>-0.479087</td>\n",
       "      <td>-0.445000</td>\n",
       "      <td>-0.488127</td>\n",
       "      <td>0</td>\n",
       "      <td>1</td>\n",
       "      <td>1</td>\n",
       "      <td>0</td>\n",
       "      <td>1</td>\n",
       "      <td>0</td>\n",
       "    </tr>\n",
       "    <tr>\n",
       "      <th>1309</th>\n",
       "      <td>0.000000</td>\n",
       "      <td>0.481288</td>\n",
       "      <td>0.710763</td>\n",
       "      <td>-0.211473</td>\n",
       "      <td>0</td>\n",
       "      <td>1</td>\n",
       "      <td>1</td>\n",
       "      <td>0</td>\n",
       "      <td>0</td>\n",
       "      <td>0</td>\n",
       "    </tr>\n",
       "  </tbody>\n",
       "</table>\n",
       "<p>418 rows × 10 columns</p>\n",
       "</div>"
      ],
      "text/plain": [
       "                  Age     SibSp     Parch      Fare  Pclass_Second  \\\n",
       "PassengerId                                                          \n",
       "892          0.358655 -0.479087 -0.445000 -0.492396              0   \n",
       "893          1.329283  0.481288 -0.445000 -0.508429              0   \n",
       "894          2.494035 -0.479087 -0.445000 -0.456465              1   \n",
       "895         -0.223721 -0.479087 -0.445000 -0.476284              0   \n",
       "896         -0.611972  0.481288  0.710763 -0.406194              0   \n",
       "...               ...       ...       ...       ...            ...   \n",
       "1305         0.000000 -0.479087 -0.445000 -0.488127              0   \n",
       "1306         0.708081 -0.479087 -0.445000  1.461829              0   \n",
       "1307         0.669256 -0.479087 -0.445000 -0.503595              0   \n",
       "1308         0.000000 -0.479087 -0.445000 -0.488127              0   \n",
       "1309         0.000000  0.481288  0.710763 -0.211473              0   \n",
       "\n",
       "             Pclass_Third  Sex_male  Embarked_Q  Embarked_S  Cabin  \n",
       "PassengerId                                                         \n",
       "892                     1         1           1           0      0  \n",
       "893                     1         0           0           1      0  \n",
       "894                     0         1           1           0      0  \n",
       "895                     1         1           0           1      0  \n",
       "896                     1         0           0           1      0  \n",
       "...                   ...       ...         ...         ...    ...  \n",
       "1305                    1         1           0           1      0  \n",
       "1306                    0         0           0           0      1  \n",
       "1307                    1         1           0           1      0  \n",
       "1308                    1         1           0           1      0  \n",
       "1309                    1         1           0           0      0  \n",
       "\n",
       "[418 rows x 10 columns]"
      ]
     },
     "execution_count": 116,
     "metadata": {},
     "output_type": "execute_result"
    }
   ],
   "source": [
    "# using the test_index to extract the test data\n",
    "test_data = data_processed.loc[test_index, :]\n",
    "test_data"
   ]
  },
  {
   "cell_type": "code",
   "execution_count": 117,
   "id": "508d9cec",
   "metadata": {},
   "outputs": [
    {
     "data": {
      "text/html": [
       "<div>\n",
       "<style scoped>\n",
       "    .dataframe tbody tr th:only-of-type {\n",
       "        vertical-align: middle;\n",
       "    }\n",
       "\n",
       "    .dataframe tbody tr th {\n",
       "        vertical-align: top;\n",
       "    }\n",
       "\n",
       "    .dataframe thead th {\n",
       "        text-align: right;\n",
       "    }\n",
       "</style>\n",
       "<table border=\"1\" class=\"dataframe\">\n",
       "  <thead>\n",
       "    <tr style=\"text-align: right;\">\n",
       "      <th></th>\n",
       "      <th>Age</th>\n",
       "      <th>SibSp</th>\n",
       "      <th>Parch</th>\n",
       "      <th>Fare</th>\n",
       "      <th>Pclass_Second</th>\n",
       "      <th>Pclass_Third</th>\n",
       "      <th>Sex_male</th>\n",
       "      <th>Embarked_Q</th>\n",
       "      <th>Embarked_S</th>\n",
       "      <th>Cabin</th>\n",
       "    </tr>\n",
       "  </thead>\n",
       "  <tbody>\n",
       "    <tr>\n",
       "      <th>1</th>\n",
       "      <td>-0.611972</td>\n",
       "      <td>0.481288</td>\n",
       "      <td>-0.445000</td>\n",
       "      <td>-0.503595</td>\n",
       "      <td>0</td>\n",
       "      <td>1</td>\n",
       "      <td>1</td>\n",
       "      <td>0</td>\n",
       "      <td>1</td>\n",
       "      <td>0</td>\n",
       "    </tr>\n",
       "    <tr>\n",
       "      <th>2</th>\n",
       "      <td>0.630431</td>\n",
       "      <td>0.481288</td>\n",
       "      <td>-0.445000</td>\n",
       "      <td>0.734503</td>\n",
       "      <td>0</td>\n",
       "      <td>0</td>\n",
       "      <td>0</td>\n",
       "      <td>0</td>\n",
       "      <td>0</td>\n",
       "      <td>1</td>\n",
       "    </tr>\n",
       "    <tr>\n",
       "      <th>3</th>\n",
       "      <td>-0.301371</td>\n",
       "      <td>-0.479087</td>\n",
       "      <td>-0.445000</td>\n",
       "      <td>-0.490544</td>\n",
       "      <td>0</td>\n",
       "      <td>1</td>\n",
       "      <td>0</td>\n",
       "      <td>0</td>\n",
       "      <td>1</td>\n",
       "      <td>0</td>\n",
       "    </tr>\n",
       "    <tr>\n",
       "      <th>4</th>\n",
       "      <td>0.397481</td>\n",
       "      <td>0.481288</td>\n",
       "      <td>-0.445000</td>\n",
       "      <td>0.382925</td>\n",
       "      <td>0</td>\n",
       "      <td>0</td>\n",
       "      <td>0</td>\n",
       "      <td>0</td>\n",
       "      <td>1</td>\n",
       "      <td>1</td>\n",
       "    </tr>\n",
       "    <tr>\n",
       "      <th>5</th>\n",
       "      <td>0.397481</td>\n",
       "      <td>-0.479087</td>\n",
       "      <td>-0.445000</td>\n",
       "      <td>-0.488127</td>\n",
       "      <td>0</td>\n",
       "      <td>1</td>\n",
       "      <td>1</td>\n",
       "      <td>0</td>\n",
       "      <td>1</td>\n",
       "      <td>0</td>\n",
       "    </tr>\n",
       "    <tr>\n",
       "      <th>...</th>\n",
       "      <td>...</td>\n",
       "      <td>...</td>\n",
       "      <td>...</td>\n",
       "      <td>...</td>\n",
       "      <td>...</td>\n",
       "      <td>...</td>\n",
       "      <td>...</td>\n",
       "      <td>...</td>\n",
       "      <td>...</td>\n",
       "      <td>...</td>\n",
       "    </tr>\n",
       "    <tr>\n",
       "      <th>887</th>\n",
       "      <td>-0.223721</td>\n",
       "      <td>-0.479087</td>\n",
       "      <td>-0.445000</td>\n",
       "      <td>-0.392417</td>\n",
       "      <td>1</td>\n",
       "      <td>0</td>\n",
       "      <td>1</td>\n",
       "      <td>0</td>\n",
       "      <td>1</td>\n",
       "      <td>0</td>\n",
       "    </tr>\n",
       "    <tr>\n",
       "      <th>888</th>\n",
       "      <td>-0.844922</td>\n",
       "      <td>-0.479087</td>\n",
       "      <td>-0.445000</td>\n",
       "      <td>-0.063719</td>\n",
       "      <td>0</td>\n",
       "      <td>0</td>\n",
       "      <td>0</td>\n",
       "      <td>0</td>\n",
       "      <td>1</td>\n",
       "      <td>1</td>\n",
       "    </tr>\n",
       "    <tr>\n",
       "      <th>889</th>\n",
       "      <td>0.000000</td>\n",
       "      <td>0.481288</td>\n",
       "      <td>1.866526</td>\n",
       "      <td>-0.190364</td>\n",
       "      <td>0</td>\n",
       "      <td>1</td>\n",
       "      <td>0</td>\n",
       "      <td>0</td>\n",
       "      <td>1</td>\n",
       "      <td>0</td>\n",
       "    </tr>\n",
       "    <tr>\n",
       "      <th>890</th>\n",
       "      <td>-0.301371</td>\n",
       "      <td>-0.479087</td>\n",
       "      <td>-0.445000</td>\n",
       "      <td>-0.063719</td>\n",
       "      <td>0</td>\n",
       "      <td>0</td>\n",
       "      <td>1</td>\n",
       "      <td>0</td>\n",
       "      <td>0</td>\n",
       "      <td>1</td>\n",
       "    </tr>\n",
       "    <tr>\n",
       "      <th>891</th>\n",
       "      <td>0.164530</td>\n",
       "      <td>-0.479087</td>\n",
       "      <td>-0.445000</td>\n",
       "      <td>-0.493927</td>\n",
       "      <td>0</td>\n",
       "      <td>1</td>\n",
       "      <td>1</td>\n",
       "      <td>1</td>\n",
       "      <td>0</td>\n",
       "      <td>0</td>\n",
       "    </tr>\n",
       "  </tbody>\n",
       "</table>\n",
       "<p>891 rows × 10 columns</p>\n",
       "</div>"
      ],
      "text/plain": [
       "          Age     SibSp     Parch      Fare  Pclass_Second  Pclass_Third  \\\n",
       "1   -0.611972  0.481288 -0.445000 -0.503595              0             1   \n",
       "2    0.630431  0.481288 -0.445000  0.734503              0             0   \n",
       "3   -0.301371 -0.479087 -0.445000 -0.490544              0             1   \n",
       "4    0.397481  0.481288 -0.445000  0.382925              0             0   \n",
       "5    0.397481 -0.479087 -0.445000 -0.488127              0             1   \n",
       "..        ...       ...       ...       ...            ...           ...   \n",
       "887 -0.223721 -0.479087 -0.445000 -0.392417              1             0   \n",
       "888 -0.844922 -0.479087 -0.445000 -0.063719              0             0   \n",
       "889  0.000000  0.481288  1.866526 -0.190364              0             1   \n",
       "890 -0.301371 -0.479087 -0.445000 -0.063719              0             0   \n",
       "891  0.164530 -0.479087 -0.445000 -0.493927              0             1   \n",
       "\n",
       "     Sex_male  Embarked_Q  Embarked_S  Cabin  \n",
       "1           1           0           1      0  \n",
       "2           0           0           0      1  \n",
       "3           0           0           1      0  \n",
       "4           0           0           1      1  \n",
       "5           1           0           1      0  \n",
       "..        ...         ...         ...    ...  \n",
       "887         1           0           1      0  \n",
       "888         0           0           1      1  \n",
       "889         0           0           1      0  \n",
       "890         1           0           0      1  \n",
       "891         1           1           0      0  \n",
       "\n",
       "[891 rows x 10 columns]"
      ]
     },
     "execution_count": 117,
     "metadata": {},
     "output_type": "execute_result"
    }
   ],
   "source": [
    "# using the test_index to extract the train data\n",
    "train_data = data_processed.loc[: min(test_index) - 1, :]\n",
    "train_data"
   ]
  },
  {
   "cell_type": "markdown",
   "id": "c70aed4b",
   "metadata": {},
   "source": [
    "## Shuffling Train Data and Train Targets"
   ]
  },
  {
   "cell_type": "markdown",
   "id": "1b79a77b",
   "metadata": {},
   "source": [
    "data set is shuffled for later use in machine learning model. shuffling helps to create a more accurate model."
   ]
  },
  {
   "cell_type": "code",
   "execution_count": 118,
   "id": "73624f78",
   "metadata": {},
   "outputs": [],
   "source": [
    "# importing the random module required to shuffle the data\n",
    "import random"
   ]
  },
  {
   "cell_type": "code",
   "execution_count": 119,
   "id": "43913dfd",
   "metadata": {},
   "outputs": [],
   "source": [
    "# extracting the train data index\n",
    "train_data_index = list(train_data.index)"
   ]
  },
  {
   "cell_type": "code",
   "execution_count": 120,
   "id": "18c10aa3",
   "metadata": {},
   "outputs": [],
   "source": [
    "# setting a random variable function so the shuffle is the same each time the notebook is run\n",
    "def randomvariable():\n",
    "    return 0.1"
   ]
  },
  {
   "cell_type": "code",
   "execution_count": 121,
   "id": "e80ba3c6",
   "metadata": {},
   "outputs": [],
   "source": [
    "# shuffling the train data index\n",
    "random.shuffle(train_data_index, randomvariable)"
   ]
  },
  {
   "cell_type": "code",
   "execution_count": 122,
   "id": "1bea43cb",
   "metadata": {
    "scrolled": true
   },
   "outputs": [
    {
     "data": {
      "text/html": [
       "<div>\n",
       "<style scoped>\n",
       "    .dataframe tbody tr th:only-of-type {\n",
       "        vertical-align: middle;\n",
       "    }\n",
       "\n",
       "    .dataframe tbody tr th {\n",
       "        vertical-align: top;\n",
       "    }\n",
       "\n",
       "    .dataframe thead th {\n",
       "        text-align: right;\n",
       "    }\n",
       "</style>\n",
       "<table border=\"1\" class=\"dataframe\">\n",
       "  <thead>\n",
       "    <tr style=\"text-align: right;\">\n",
       "      <th></th>\n",
       "      <th>Age</th>\n",
       "      <th>SibSp</th>\n",
       "      <th>Parch</th>\n",
       "      <th>Fare</th>\n",
       "      <th>Pclass_Second</th>\n",
       "      <th>Pclass_Third</th>\n",
       "      <th>Sex_male</th>\n",
       "      <th>Embarked_Q</th>\n",
       "      <th>Embarked_S</th>\n",
       "      <th>Cabin</th>\n",
       "    </tr>\n",
       "  </thead>\n",
       "  <tbody>\n",
       "    <tr>\n",
       "      <th>890</th>\n",
       "      <td>-0.301371</td>\n",
       "      <td>-0.479087</td>\n",
       "      <td>-0.445000</td>\n",
       "      <td>-0.063719</td>\n",
       "      <td>0</td>\n",
       "      <td>0</td>\n",
       "      <td>1</td>\n",
       "      <td>0</td>\n",
       "      <td>0</td>\n",
       "      <td>1</td>\n",
       "    </tr>\n",
       "    <tr>\n",
       "      <th>190</th>\n",
       "      <td>0.475131</td>\n",
       "      <td>-0.479087</td>\n",
       "      <td>-0.445000</td>\n",
       "      <td>-0.491108</td>\n",
       "      <td>0</td>\n",
       "      <td>1</td>\n",
       "      <td>1</td>\n",
       "      <td>0</td>\n",
       "      <td>1</td>\n",
       "      <td>0</td>\n",
       "    </tr>\n",
       "    <tr>\n",
       "      <th>290</th>\n",
       "      <td>-0.611972</td>\n",
       "      <td>-0.479087</td>\n",
       "      <td>-0.445000</td>\n",
       "      <td>-0.493927</td>\n",
       "      <td>0</td>\n",
       "      <td>1</td>\n",
       "      <td>0</td>\n",
       "      <td>1</td>\n",
       "      <td>0</td>\n",
       "      <td>0</td>\n",
       "    </tr>\n",
       "    <tr>\n",
       "      <th>390</th>\n",
       "      <td>-1.000223</td>\n",
       "      <td>-0.479087</td>\n",
       "      <td>-0.445000</td>\n",
       "      <td>-0.411753</td>\n",
       "      <td>1</td>\n",
       "      <td>0</td>\n",
       "      <td>0</td>\n",
       "      <td>0</td>\n",
       "      <td>0</td>\n",
       "      <td>0</td>\n",
       "    </tr>\n",
       "    <tr>\n",
       "      <th>490</th>\n",
       "      <td>-1.621424</td>\n",
       "      <td>0.481288</td>\n",
       "      <td>0.710763</td>\n",
       "      <td>-0.336345</td>\n",
       "      <td>0</td>\n",
       "      <td>1</td>\n",
       "      <td>1</td>\n",
       "      <td>0</td>\n",
       "      <td>1</td>\n",
       "      <td>0</td>\n",
       "    </tr>\n",
       "  </tbody>\n",
       "</table>\n",
       "</div>"
      ],
      "text/plain": [
       "          Age     SibSp     Parch      Fare  Pclass_Second  Pclass_Third  \\\n",
       "890 -0.301371 -0.479087 -0.445000 -0.063719              0             0   \n",
       "190  0.475131 -0.479087 -0.445000 -0.491108              0             1   \n",
       "290 -0.611972 -0.479087 -0.445000 -0.493927              0             1   \n",
       "390 -1.000223 -0.479087 -0.445000 -0.411753              1             0   \n",
       "490 -1.621424  0.481288  0.710763 -0.336345              0             1   \n",
       "\n",
       "     Sex_male  Embarked_Q  Embarked_S  Cabin  \n",
       "890         1           0           0      1  \n",
       "190         1           0           1      0  \n",
       "290         0           1           0      0  \n",
       "390         0           0           0      0  \n",
       "490         1           0           1      0  "
      ]
     },
     "execution_count": 122,
     "metadata": {},
     "output_type": "execute_result"
    }
   ],
   "source": [
    "# shuffling the train data based of the new index\n",
    "train_data = train_data.loc[train_data_index, :]\n",
    "train_data.head()"
   ]
  },
  {
   "cell_type": "code",
   "execution_count": 123,
   "id": "85268206",
   "metadata": {},
   "outputs": [
    {
     "data": {
      "text/plain": [
       "PassengerId\n",
       "890    1\n",
       "190    0\n",
       "290    1\n",
       "390    1\n",
       "490    1\n",
       "Name: Survived, dtype: int64"
      ]
     },
     "execution_count": 123,
     "metadata": {},
     "output_type": "execute_result"
    }
   ],
   "source": [
    "# shuffling the train targets index the same way as the train data\n",
    "train_targets = train_targets.loc[train_data_index]\n",
    "train_targets.head()"
   ]
  },
  {
   "cell_type": "markdown",
   "id": "b0e85116",
   "metadata": {},
   "source": [
    "## Rename Test Data And Exporting To .csv"
   ]
  },
  {
   "cell_type": "code",
   "execution_count": 124,
   "id": "29b2380d",
   "metadata": {},
   "outputs": [],
   "source": [
    "# renaming to variable convention used in machine learning model\n",
    "test_inputs = test_data"
   ]
  },
  {
   "cell_type": "code",
   "execution_count": 125,
   "id": "7edd7664",
   "metadata": {},
   "outputs": [],
   "source": [
    "# exporting to csv for later reference\n",
    "pd.Series(list(test_inputs.index)).to_csv('test_inputs_index.csv')"
   ]
  },
  {
   "cell_type": "markdown",
   "id": "e89bebf2",
   "metadata": {},
   "source": [
    "## Create Validation Dataset"
   ]
  },
  {
   "cell_type": "markdown",
   "id": "f7c52755",
   "metadata": {},
   "source": [
    "validation dataset created to help avoid overfitting when using the machine learning model"
   ]
  },
  {
   "cell_type": "code",
   "execution_count": 126,
   "id": "f3582d27",
   "metadata": {},
   "outputs": [
    {
     "data": {
      "text/plain": [
       "891"
      ]
     },
     "execution_count": 126,
     "metadata": {},
     "output_type": "execute_result"
    }
   ],
   "source": [
    "# counting the number of rows in the train data set\n",
    "train_counts = train_data.shape[0]\n",
    "train_counts"
   ]
  },
  {
   "cell_type": "code",
   "execution_count": 127,
   "id": "be17c6a9",
   "metadata": {},
   "outputs": [],
   "source": [
    "# setting the percent of the training data that is to be used for the validation set\n",
    "validation_percent = 0.05"
   ]
  },
  {
   "cell_type": "code",
   "execution_count": 128,
   "id": "22d804fd",
   "metadata": {},
   "outputs": [
    {
     "data": {
      "text/plain": [
       "44"
      ]
     },
     "execution_count": 128,
     "metadata": {},
     "output_type": "execute_result"
    }
   ],
   "source": [
    "# calculating the number of validation samples required.\n",
    "validation_sample_count = int(validation_percent * train_counts)\n",
    "validation_sample_count"
   ]
  },
  {
   "cell_type": "code",
   "execution_count": 129,
   "id": "d1cda788",
   "metadata": {},
   "outputs": [
    {
     "data": {
      "text/html": [
       "<div>\n",
       "<style scoped>\n",
       "    .dataframe tbody tr th:only-of-type {\n",
       "        vertical-align: middle;\n",
       "    }\n",
       "\n",
       "    .dataframe tbody tr th {\n",
       "        vertical-align: top;\n",
       "    }\n",
       "\n",
       "    .dataframe thead th {\n",
       "        text-align: right;\n",
       "    }\n",
       "</style>\n",
       "<table border=\"1\" class=\"dataframe\">\n",
       "  <thead>\n",
       "    <tr style=\"text-align: right;\">\n",
       "      <th></th>\n",
       "      <th>Age</th>\n",
       "      <th>SibSp</th>\n",
       "      <th>Parch</th>\n",
       "      <th>Fare</th>\n",
       "      <th>Pclass_Second</th>\n",
       "      <th>Pclass_Third</th>\n",
       "      <th>Sex_male</th>\n",
       "      <th>Embarked_Q</th>\n",
       "      <th>Embarked_S</th>\n",
       "      <th>Cabin</th>\n",
       "    </tr>\n",
       "  </thead>\n",
       "  <tbody>\n",
       "    <tr>\n",
       "      <th>890</th>\n",
       "      <td>-0.301371</td>\n",
       "      <td>-0.479087</td>\n",
       "      <td>-0.445000</td>\n",
       "      <td>-0.063719</td>\n",
       "      <td>0</td>\n",
       "      <td>0</td>\n",
       "      <td>1</td>\n",
       "      <td>0</td>\n",
       "      <td>0</td>\n",
       "      <td>1</td>\n",
       "    </tr>\n",
       "    <tr>\n",
       "      <th>190</th>\n",
       "      <td>0.475131</td>\n",
       "      <td>-0.479087</td>\n",
       "      <td>-0.445000</td>\n",
       "      <td>-0.491108</td>\n",
       "      <td>0</td>\n",
       "      <td>1</td>\n",
       "      <td>1</td>\n",
       "      <td>0</td>\n",
       "      <td>1</td>\n",
       "      <td>0</td>\n",
       "    </tr>\n",
       "    <tr>\n",
       "      <th>290</th>\n",
       "      <td>-0.611972</td>\n",
       "      <td>-0.479087</td>\n",
       "      <td>-0.445000</td>\n",
       "      <td>-0.493927</td>\n",
       "      <td>0</td>\n",
       "      <td>1</td>\n",
       "      <td>0</td>\n",
       "      <td>1</td>\n",
       "      <td>0</td>\n",
       "      <td>0</td>\n",
       "    </tr>\n",
       "    <tr>\n",
       "      <th>390</th>\n",
       "      <td>-1.000223</td>\n",
       "      <td>-0.479087</td>\n",
       "      <td>-0.445000</td>\n",
       "      <td>-0.411753</td>\n",
       "      <td>1</td>\n",
       "      <td>0</td>\n",
       "      <td>0</td>\n",
       "      <td>0</td>\n",
       "      <td>0</td>\n",
       "      <td>0</td>\n",
       "    </tr>\n",
       "    <tr>\n",
       "      <th>490</th>\n",
       "      <td>-1.621424</td>\n",
       "      <td>0.481288</td>\n",
       "      <td>0.710763</td>\n",
       "      <td>-0.336345</td>\n",
       "      <td>0</td>\n",
       "      <td>1</td>\n",
       "      <td>1</td>\n",
       "      <td>0</td>\n",
       "      <td>1</td>\n",
       "      <td>0</td>\n",
       "    </tr>\n",
       "  </tbody>\n",
       "</table>\n",
       "</div>"
      ],
      "text/plain": [
       "          Age     SibSp     Parch      Fare  Pclass_Second  Pclass_Third  \\\n",
       "890 -0.301371 -0.479087 -0.445000 -0.063719              0             0   \n",
       "190  0.475131 -0.479087 -0.445000 -0.491108              0             1   \n",
       "290 -0.611972 -0.479087 -0.445000 -0.493927              0             1   \n",
       "390 -1.000223 -0.479087 -0.445000 -0.411753              1             0   \n",
       "490 -1.621424  0.481288  0.710763 -0.336345              0             1   \n",
       "\n",
       "     Sex_male  Embarked_Q  Embarked_S  Cabin  \n",
       "890         1           0           0      1  \n",
       "190         1           0           1      0  \n",
       "290         0           1           0      0  \n",
       "390         0           0           0      0  \n",
       "490         1           0           1      0  "
      ]
     },
     "execution_count": 129,
     "metadata": {},
     "output_type": "execute_result"
    }
   ],
   "source": [
    "# extracting the validation dataset from the train dataset\n",
    "validation_inputs = train_data.iloc[:validation_sample_count, :]\n",
    "validation_inputs.head()"
   ]
  },
  {
   "cell_type": "code",
   "execution_count": 130,
   "id": "12e87905",
   "metadata": {},
   "outputs": [
    {
     "data": {
      "text/plain": [
       "PassengerId\n",
       "890    1\n",
       "190    0\n",
       "290    1\n",
       "390    1\n",
       "490    1\n",
       "Name: Survived, dtype: int64"
      ]
     },
     "execution_count": 130,
     "metadata": {},
     "output_type": "execute_result"
    }
   ],
   "source": [
    "# extracting the validation targets from the train targets\n",
    "validation_targets = train_targets.iloc[:validation_sample_count]\n",
    "validation_targets.head()"
   ]
  },
  {
   "cell_type": "code",
   "execution_count": 131,
   "id": "9f83bc75",
   "metadata": {},
   "outputs": [
    {
     "data": {
      "text/html": [
       "<div>\n",
       "<style scoped>\n",
       "    .dataframe tbody tr th:only-of-type {\n",
       "        vertical-align: middle;\n",
       "    }\n",
       "\n",
       "    .dataframe tbody tr th {\n",
       "        vertical-align: top;\n",
       "    }\n",
       "\n",
       "    .dataframe thead th {\n",
       "        text-align: right;\n",
       "    }\n",
       "</style>\n",
       "<table border=\"1\" class=\"dataframe\">\n",
       "  <thead>\n",
       "    <tr style=\"text-align: right;\">\n",
       "      <th></th>\n",
       "      <th>Age</th>\n",
       "      <th>SibSp</th>\n",
       "      <th>Parch</th>\n",
       "      <th>Fare</th>\n",
       "      <th>Pclass_Second</th>\n",
       "      <th>Pclass_Third</th>\n",
       "      <th>Sex_male</th>\n",
       "      <th>Embarked_Q</th>\n",
       "      <th>Embarked_S</th>\n",
       "      <th>Cabin</th>\n",
       "    </tr>\n",
       "  </thead>\n",
       "  <tbody>\n",
       "    <tr>\n",
       "      <th>450</th>\n",
       "      <td>1.717533</td>\n",
       "      <td>-0.479087</td>\n",
       "      <td>-0.445000</td>\n",
       "      <td>-0.054051</td>\n",
       "      <td>0</td>\n",
       "      <td>0</td>\n",
       "      <td>1</td>\n",
       "      <td>0</td>\n",
       "      <td>1</td>\n",
       "      <td>1</td>\n",
       "    </tr>\n",
       "    <tr>\n",
       "      <th>460</th>\n",
       "      <td>0.000000</td>\n",
       "      <td>-0.479087</td>\n",
       "      <td>-0.445000</td>\n",
       "      <td>-0.493927</td>\n",
       "      <td>0</td>\n",
       "      <td>1</td>\n",
       "      <td>1</td>\n",
       "      <td>1</td>\n",
       "      <td>0</td>\n",
       "      <td>0</td>\n",
       "    </tr>\n",
       "    <tr>\n",
       "      <th>470</th>\n",
       "      <td>-2.262038</td>\n",
       "      <td>1.441662</td>\n",
       "      <td>0.710763</td>\n",
       "      <td>-0.271412</td>\n",
       "      <td>0</td>\n",
       "      <td>1</td>\n",
       "      <td>0</td>\n",
       "      <td>0</td>\n",
       "      <td>0</td>\n",
       "      <td>0</td>\n",
       "    </tr>\n",
       "    <tr>\n",
       "      <th>480</th>\n",
       "      <td>-2.164975</td>\n",
       "      <td>-0.479087</td>\n",
       "      <td>0.710763</td>\n",
       "      <td>-0.406194</td>\n",
       "      <td>0</td>\n",
       "      <td>1</td>\n",
       "      <td>0</td>\n",
       "      <td>0</td>\n",
       "      <td>1</td>\n",
       "      <td>0</td>\n",
       "    </tr>\n",
       "    <tr>\n",
       "      <th>5</th>\n",
       "      <td>0.397481</td>\n",
       "      <td>-0.479087</td>\n",
       "      <td>-0.445000</td>\n",
       "      <td>-0.488127</td>\n",
       "      <td>0</td>\n",
       "      <td>1</td>\n",
       "      <td>1</td>\n",
       "      <td>0</td>\n",
       "      <td>1</td>\n",
       "      <td>0</td>\n",
       "    </tr>\n",
       "  </tbody>\n",
       "</table>\n",
       "</div>"
      ],
      "text/plain": [
       "          Age     SibSp     Parch      Fare  Pclass_Second  Pclass_Third  \\\n",
       "450  1.717533 -0.479087 -0.445000 -0.054051              0             0   \n",
       "460  0.000000 -0.479087 -0.445000 -0.493927              0             1   \n",
       "470 -2.262038  1.441662  0.710763 -0.271412              0             1   \n",
       "480 -2.164975 -0.479087  0.710763 -0.406194              0             1   \n",
       "5    0.397481 -0.479087 -0.445000 -0.488127              0             1   \n",
       "\n",
       "     Sex_male  Embarked_Q  Embarked_S  Cabin  \n",
       "450         1           0           1      1  \n",
       "460         1           1           0      0  \n",
       "470         0           0           0      0  \n",
       "480         0           0           1      0  \n",
       "5           1           0           1      0  "
      ]
     },
     "execution_count": 131,
     "metadata": {},
     "output_type": "execute_result"
    }
   ],
   "source": [
    "# remaining train data is used for the train inputs\n",
    "train_inputs = train_data.iloc[validation_sample_count:, :]\n",
    "train_inputs.head()"
   ]
  },
  {
   "cell_type": "code",
   "execution_count": 132,
   "id": "8c818917",
   "metadata": {
    "scrolled": true
   },
   "outputs": [
    {
     "data": {
      "text/plain": [
       "PassengerId\n",
       "450    1\n",
       "460    0\n",
       "470    1\n",
       "480    1\n",
       "5      0\n",
       "Name: Survived, dtype: int64"
      ]
     },
     "execution_count": 132,
     "metadata": {},
     "output_type": "execute_result"
    }
   ],
   "source": [
    "# remaining train targets are used for the train targets dataset\n",
    "train_targets = train_targets.iloc[validation_sample_count:]\n",
    "train_targets.head()"
   ]
  },
  {
   "cell_type": "markdown",
   "id": "27ac1102",
   "metadata": {},
   "source": [
    "## Save datasets as *.nqz"
   ]
  },
  {
   "cell_type": "code",
   "execution_count": 133,
   "id": "91fc39c1",
   "metadata": {},
   "outputs": [],
   "source": [
    "# saving the data as npz for use in the machine learning model\n",
    "np.savez('Titanic_data_train', inputs = train_inputs, targets = train_targets)\n",
    "np.savez('Titanic_data_validation', inputs = validation_inputs, targets = validation_targets)\n",
    "np.savez('Titanic_data_test', inputs = test_inputs)"
   ]
  },
  {
   "cell_type": "markdown",
   "id": "b5471549",
   "metadata": {},
   "source": [
    "# Machine Learning Model - Notebook 2"
   ]
  },
  {
   "cell_type": "code",
   "execution_count": 134,
   "id": "ce2e001a",
   "metadata": {},
   "outputs": [],
   "source": [
    "# importing the relevant modules required for the machine learning model\n",
    "import numpy as np\n",
    "import tensorflow as tf\n",
    "import pandas as pd"
   ]
  },
  {
   "cell_type": "code",
   "execution_count": 135,
   "id": "06945c7f",
   "metadata": {},
   "outputs": [],
   "source": [
    "# loading the train npz\n",
    "npz = np.load('Titanic_data_train.npz')\n",
    "\n",
    "# loading the train inputs and targets\n",
    "train_inputs = npz['inputs'].astype(float)\n",
    "train_targets = npz['targets'].astype(int)"
   ]
  },
  {
   "cell_type": "code",
   "execution_count": 136,
   "id": "317f048b",
   "metadata": {},
   "outputs": [],
   "source": [
    "# loading the validation npz\n",
    "npz = np.load('Titanic_data_validation.npz')\n",
    "\n",
    "# loading the validation inputs and targets\n",
    "validation_inputs = npz['inputs'].astype(float)\n",
    "validation_targets = npz['targets'].astype(int)"
   ]
  },
  {
   "cell_type": "code",
   "execution_count": 137,
   "id": "17dc51e4",
   "metadata": {},
   "outputs": [],
   "source": [
    "# loading the test npz\n",
    "npz = np.load('Titanic_data_test.npz')\n",
    "\n",
    "# loading the test inputs\n",
    "test_inputs = npz['inputs'].astype(float)"
   ]
  },
  {
   "cell_type": "markdown",
   "id": "06aa2d28",
   "metadata": {},
   "source": [
    "## Model"
   ]
  },
  {
   "cell_type": "markdown",
   "id": "ccd8b1b5",
   "metadata": {},
   "source": [
    "using tensorflow 2 to create the machine learning model"
   ]
  },
  {
   "cell_type": "code",
   "execution_count": 138,
   "id": "46b3781e",
   "metadata": {},
   "outputs": [
    {
     "name": "stdout",
     "output_type": "stream",
     "text": [
      "Epoch 1/50\n",
      "17/17 - 1s - loss: 0.5828 - accuracy: 0.7013 - val_loss: 0.4561 - val_accuracy: 0.7727 - 753ms/epoch - 44ms/step\n",
      "Epoch 2/50\n",
      "17/17 - 0s - loss: 0.4425 - accuracy: 0.8111 - val_loss: 0.4655 - val_accuracy: 0.7955 - 117ms/epoch - 7ms/step\n",
      "Epoch 3/50\n",
      "17/17 - 0s - loss: 0.4354 - accuracy: 0.8253 - val_loss: 0.3872 - val_accuracy: 0.8182 - 121ms/epoch - 7ms/step\n",
      "Epoch 4/50\n",
      "17/17 - 0s - loss: 0.4187 - accuracy: 0.8312 - val_loss: 0.4154 - val_accuracy: 0.7955 - 118ms/epoch - 7ms/step\n",
      "Epoch 5/50\n",
      "17/17 - 0s - loss: 0.3978 - accuracy: 0.8371 - val_loss: 0.4001 - val_accuracy: 0.7955 - 116ms/epoch - 7ms/step\n",
      "Epoch 6/50\n",
      "17/17 - 0s - loss: 0.3838 - accuracy: 0.8418 - val_loss: 0.3704 - val_accuracy: 0.8182 - 115ms/epoch - 7ms/step\n",
      "Epoch 7/50\n",
      "17/17 - 0s - loss: 0.3770 - accuracy: 0.8453 - val_loss: 0.4239 - val_accuracy: 0.8409 - 117ms/epoch - 7ms/step\n",
      "Epoch 8/50\n",
      "17/17 - 0s - loss: 0.3668 - accuracy: 0.8430 - val_loss: 0.5043 - val_accuracy: 0.8182 - 116ms/epoch - 7ms/step\n",
      "Epoch 9/50\n",
      "17/17 - 0s - loss: 0.3831 - accuracy: 0.8347 - val_loss: 0.4420 - val_accuracy: 0.8409 - 116ms/epoch - 7ms/step\n"
     ]
    },
    {
     "data": {
      "text/plain": [
       "<keras.callbacks.History at 0x26479e25208>"
      ]
     },
     "execution_count": 138,
     "metadata": {},
     "output_type": "execute_result"
    }
   ],
   "source": [
    "#specifying the number of inputs and outputs\n",
    "input_size = 10\n",
    "output_size = 2\n",
    "\n",
    "#specifying the number units in the hidden layer\n",
    "hidden_layer_size = 500\n",
    "\n",
    "# specifying the number of layers and their respective activation functions. \n",
    "# softmax output layer is required for classification\n",
    "model = tf.keras.Sequential([\n",
    "    tf.keras.layers.Dense(hidden_layer_size, activation='relu'),\n",
    "    tf.keras.layers.Dense(hidden_layer_size, activation='relu'),\n",
    "    tf.keras.layers.Dense(hidden_layer_size, activation='relu'),\n",
    "    tf.keras.layers.Dense(hidden_layer_size, activation='relu'),\n",
    "    tf.keras.layers.Dense(hidden_layer_size, activation='relu'),\n",
    "    tf.keras.layers.Dense(hidden_layer_size, activation='relu'),\n",
    "    tf.keras.layers.Dense(hidden_layer_size, activation='relu'),\n",
    "    tf.keras.layers.Dense(hidden_layer_size, activation='relu'),\n",
    "    tf.keras.layers.Dense(hidden_layer_size, activation='relu'),\n",
    "    tf.keras.layers.Dense(output_size, activation='softmax')\n",
    "])\n",
    "\n",
    "# specifying the optimization algorithm, objective function as well as metrics to display after each epoch.\n",
    "model.compile(optimizer='adam', loss='sparse_categorical_crossentropy', metrics=['accuracy'])\n",
    "\n",
    "# specifying the batch size\n",
    "batch_size = 50\n",
    "\n",
    "# specifying the max number of epochs\n",
    "max_epochs = 50\n",
    "\n",
    "# setting an early stopping parameter to avoid overfitting\n",
    "early_stopping = tf.keras.callbacks.EarlyStopping(patience=3)\n",
    "\n",
    "# fitting the model based on the data and hyperparameters specified\n",
    "model.fit(train_inputs,\n",
    "          train_targets,\n",
    "          batch_size=batch_size,\n",
    "          epochs=max_epochs,\n",
    "          callbacks=[early_stopping],\n",
    "          validation_data=(validation_inputs, validation_targets), \n",
    "          verbose = 2\n",
    "          )  "
   ]
  },
  {
   "cell_type": "code",
   "execution_count": 139,
   "id": "525bb47b",
   "metadata": {},
   "outputs": [
    {
     "name": "stdout",
     "output_type": "stream",
     "text": [
      "14/14 [==============================] - 0s 2ms/step\n",
      "[[0.985 0.015]\n",
      " [0.675 0.325]\n",
      " [0.99  0.01 ]\n",
      " [0.954 0.046]\n",
      " [0.717 0.283]\n",
      " [0.899 0.101]\n",
      " [0.227 0.773]\n",
      " [0.96  0.04 ]\n",
      " [0.308 0.692]\n",
      " [0.957 0.043]\n",
      " [0.956 0.044]\n",
      " [0.854 0.146]\n",
      " [0.    1.   ]\n",
      " [0.912 0.088]\n",
      " [0.    1.   ]\n",
      " [0.    1.   ]\n",
      " [0.984 0.016]\n",
      " [0.736 0.264]\n",
      " [0.752 0.248]\n",
      " [0.697 0.303]\n",
      " [0.824 0.176]\n",
      " [0.087 0.913]\n",
      " [0.018 0.982]\n",
      " [0.243 0.757]\n",
      " [0.013 0.987]\n",
      " [0.972 0.028]\n",
      " [0.037 0.963]\n",
      " [0.786 0.214]\n",
      " [0.619 0.381]\n",
      " [0.93  0.07 ]\n",
      " [0.938 0.062]\n",
      " [0.972 0.028]\n",
      " [0.815 0.185]\n",
      " [0.78  0.22 ]\n",
      " [0.486 0.514]\n",
      " [0.63  0.37 ]\n",
      " [0.662 0.338]\n",
      " [0.539 0.461]\n",
      " [0.954 0.046]\n",
      " [0.649 0.351]\n",
      " [0.966 0.034]\n",
      " [0.606 0.394]\n",
      " [0.963 0.037]\n",
      " [0.013 0.987]\n",
      " [0.001 0.999]\n",
      " [0.956 0.044]\n",
      " [0.696 0.304]\n",
      " [0.979 0.021]\n",
      " [0.013 0.987]\n",
      " [0.814 0.186]\n",
      " [0.583 0.417]\n",
      " [0.939 0.061]\n",
      " [0.016 0.984]\n",
      " [0.001 0.999]\n",
      " [0.944 0.056]\n",
      " [0.974 0.026]\n",
      " [0.959 0.041]\n",
      " [0.874 0.126]\n",
      " [0.956 0.044]\n",
      " [0.    1.   ]\n",
      " [0.936 0.064]\n",
      " [0.966 0.034]\n",
      " [0.943 0.057]\n",
      " [0.245 0.755]\n",
      " [0.296 0.704]\n",
      " [0.01  0.99 ]\n",
      " [0.242 0.758]\n",
      " [0.806 0.194]\n",
      " [0.524 0.476]\n",
      " [0.008 0.992]\n",
      " [0.239 0.761]\n",
      " [0.955 0.045]\n",
      " [0.654 0.346]\n",
      " [0.483 0.517]\n",
      " [0.    1.   ]\n",
      " [0.566 0.434]\n",
      " [0.955 0.045]\n",
      " [0.002 0.998]\n",
      " [0.968 0.032]\n",
      " [0.239 0.761]\n",
      " [0.035 0.965]\n",
      " [0.004 0.996]\n",
      " [0.874 0.126]\n",
      " [0.956 0.044]\n",
      " [0.981 0.019]\n",
      " [0.922 0.078]\n",
      " [0.231 0.769]\n",
      " [0.466 0.534]\n",
      " [0.227 0.773]\n",
      " [0.    1.   ]\n",
      " [0.733 0.267]\n",
      " [0.956 0.044]\n",
      " [0.119 0.881]\n",
      " [0.955 0.045]\n",
      " [0.829 0.171]\n",
      " [0.956 0.044]\n",
      " [0.    1.   ]\n",
      " [0.955 0.045]\n",
      " [0.518 0.482]\n",
      " [0.957 0.043]\n",
      " [0.002 0.998]\n",
      " [0.965 0.035]\n",
      " [0.979 0.021]\n",
      " [0.956 0.044]\n",
      " [0.22  0.78 ]\n",
      " [0.92  0.08 ]\n",
      " [0.941 0.059]\n",
      " [0.979 0.021]\n",
      " [0.954 0.046]\n",
      " [0.759 0.241]\n",
      " [0.955 0.045]\n",
      " [0.227 0.773]\n",
      " [0.037 0.963]\n",
      " [0.243 0.757]\n",
      " [0.    1.   ]\n",
      " [0.698 0.302]\n",
      " [0.931 0.069]\n",
      " [0.03  0.97 ]\n",
      " [0.546 0.454]\n",
      " [0.056 0.944]\n",
      " [0.    1.   ]\n",
      " [0.973 0.027]\n",
      " [0.001 0.999]\n",
      " [0.956 0.044]\n",
      " [0.979 0.021]\n",
      " [0.222 0.778]\n",
      " [0.956 0.044]\n",
      " [0.013 0.987]\n",
      " [0.955 0.045]\n",
      " [0.956 0.044]\n",
      " [0.956 0.044]\n",
      " [0.771 0.229]\n",
      " [0.824 0.176]\n",
      " [0.935 0.065]\n",
      " [0.965 0.035]\n",
      " [0.956 0.044]\n",
      " [0.885 0.115]\n",
      " [0.972 0.028]\n",
      " [0.575 0.425]\n",
      " [0.992 0.008]\n",
      " [0.915 0.085]\n",
      " [0.    1.   ]\n",
      " [0.603 0.397]\n",
      " [0.961 0.039]\n",
      " [0.827 0.173]\n",
      " [0.974 0.026]\n",
      " [0.566 0.434]\n",
      " [0.956 0.044]\n",
      " [0.83  0.17 ]\n",
      " [0.965 0.035]\n",
      " [0.094 0.906]\n",
      " [0.928 0.072]\n",
      " [0.963 0.037]\n",
      " [0.822 0.178]\n",
      " [0.974 0.026]\n",
      " [0.957 0.043]\n",
      " [0.    1.   ]\n",
      " [0.576 0.424]\n",
      " [0.641 0.359]\n",
      " [0.563 0.437]\n",
      " [0.227 0.773]\n",
      " [0.043 0.957]\n",
      " [0.004 0.996]\n",
      " [0.957 0.043]\n",
      " [0.956 0.044]\n",
      " [0.735 0.265]\n",
      " [0.657 0.343]\n",
      " [0.915 0.085]\n",
      " [0.051 0.949]\n",
      " [0.555 0.445]\n",
      " [0.956 0.044]\n",
      " [0.893 0.107]\n",
      " [0.948 0.052]\n",
      " [0.93  0.07 ]\n",
      " [0.991 0.009]\n",
      " [0.    1.   ]\n",
      " [0.001 0.999]\n",
      " [0.61  0.39 ]\n",
      " [0.002 0.998]\n",
      " [0.041 0.959]\n",
      " [0.968 0.032]\n",
      " [0.603 0.397]\n",
      " [0.001 0.999]\n",
      " [0.979 0.021]\n",
      " [0.001 0.999]\n",
      " [0.954 0.046]\n",
      " [0.    1.   ]\n",
      " [0.961 0.039]\n",
      " [0.954 0.046]\n",
      " [0.957 0.043]\n",
      " [0.958 0.042]\n",
      " [0.832 0.168]\n",
      " [0.697 0.303]\n",
      " [0.989 0.011]\n",
      " [0.    1.   ]\n",
      " [0.957 0.043]\n",
      " [0.057 0.943]\n",
      " [0.467 0.533]\n",
      " [0.973 0.027]\n",
      " [0.662 0.338]\n",
      " [0.228 0.772]\n",
      " [0.005 0.995]\n",
      " [0.133 0.867]\n",
      " [0.    1.   ]\n",
      " [0.973 0.027]\n",
      " [0.864 0.136]\n",
      " [0.457 0.543]\n",
      " [0.973 0.027]\n",
      " [0.014 0.986]\n",
      " [0.956 0.044]\n",
      " [0.92  0.08 ]\n",
      " [0.957 0.043]\n",
      " [0.933 0.067]\n",
      " [0.015 0.985]\n",
      " [0.896 0.104]\n",
      " [0.599 0.401]\n",
      " [0.227 0.773]\n",
      " [0.592 0.408]\n",
      " [0.    1.   ]\n",
      " [0.955 0.045]\n",
      " [0.004 0.996]\n",
      " [0.955 0.045]\n",
      " [0.    1.   ]\n",
      " [0.955 0.045]\n",
      " [0.128 0.872]\n",
      " [0.484 0.516]\n",
      " [0.957 0.043]\n",
      " [0.227 0.773]\n",
      " [0.953 0.047]\n",
      " [0.961 0.039]\n",
      " [0.93  0.07 ]\n",
      " [0.017 0.983]\n",
      " [0.953 0.047]\n",
      " [0.979 0.021]\n",
      " [0.534 0.466]\n",
      " [0.952 0.048]\n",
      " [0.588 0.412]\n",
      " [0.697 0.303]\n",
      " [0.002 0.998]\n",
      " [0.    1.   ]\n",
      " [0.118 0.882]\n",
      " [0.006 0.994]\n",
      " [0.583 0.417]\n",
      " [0.956 0.044]\n",
      " [0.953 0.047]\n",
      " [0.588 0.412]\n",
      " [0.001 0.999]\n",
      " [0.967 0.033]\n",
      " [0.056 0.944]\n",
      " [0.628 0.372]\n",
      " [0.    1.   ]\n",
      " [0.952 0.048]\n",
      " [0.552 0.448]\n",
      " [0.954 0.046]\n",
      " [0.954 0.046]\n",
      " [0.956 0.044]\n",
      " [0.979 0.021]\n",
      " [0.955 0.045]\n",
      " [0.001 0.999]\n",
      " [0.955 0.045]\n",
      " [0.961 0.039]\n",
      " [0.955 0.045]\n",
      " [0.001 0.999]\n",
      " [0.024 0.976]\n",
      " [0.946 0.054]\n",
      " [0.956 0.044]\n",
      " [0.924 0.076]\n",
      " [0.956 0.044]\n",
      " [0.662 0.338]\n",
      " [0.935 0.065]\n",
      " [0.599 0.401]\n",
      " [0.979 0.021]\n",
      " [0.    1.   ]\n",
      " [0.057 0.943]\n",
      " [0.93  0.07 ]\n",
      " [0.01  0.99 ]\n",
      " [0.972 0.028]\n",
      " [0.955 0.045]\n",
      " [0.965 0.035]\n",
      " [0.972 0.028]\n",
      " [0.572 0.428]\n",
      " [0.012 0.988]\n",
      " [0.227 0.773]\n",
      " [0.107 0.893]\n",
      " [0.036 0.964]\n",
      " [0.961 0.039]\n",
      " [0.957 0.043]\n",
      " [0.573 0.427]\n",
      " [0.825 0.175]\n",
      " [0.955 0.045]\n",
      " [0.763 0.237]\n",
      " [0.227 0.773]\n",
      " [0.93  0.07 ]\n",
      " [0.736 0.264]\n",
      " [0.957 0.043]\n",
      " [0.956 0.044]\n",
      " [0.    1.   ]\n",
      " [0.93  0.07 ]\n",
      " [0.736 0.264]\n",
      " [0.956 0.044]\n",
      " [0.957 0.043]\n",
      " [0.75  0.25 ]\n",
      " [0.974 0.026]\n",
      " [0.955 0.045]\n",
      " [0.227 0.773]\n",
      " [0.04  0.96 ]\n",
      " [0.587 0.413]\n",
      " [0.017 0.983]\n",
      " [0.706 0.294]\n",
      " [0.63  0.37 ]\n",
      " [0.941 0.059]\n",
      " [0.77  0.23 ]\n",
      " [0.956 0.044]\n",
      " [0.602 0.398]\n",
      " [0.    1.   ]\n",
      " [0.238 0.762]\n",
      " [0.376 0.624]\n",
      " [0.967 0.033]\n",
      " [0.955 0.045]\n",
      " [0.972 0.028]\n",
      " [0.956 0.044]\n",
      " [0.702 0.298]\n",
      " [0.818 0.182]\n",
      " [0.815 0.185]\n",
      " [0.    1.   ]\n",
      " [0.958 0.042]\n",
      " [0.001 0.999]\n",
      " [0.79  0.21 ]\n",
      " [0.963 0.037]\n",
      " [0.97  0.03 ]\n",
      " [0.006 0.994]\n",
      " [0.631 0.369]\n",
      " [0.93  0.07 ]\n",
      " [0.288 0.712]\n",
      " [0.955 0.045]\n",
      " [0.608 0.392]\n",
      " [0.966 0.034]\n",
      " [0.976 0.024]\n",
      " [0.962 0.038]\n",
      " [0.93  0.07 ]\n",
      " [0.964 0.036]\n",
      " [0.957 0.043]\n",
      " [0.991 0.009]\n",
      " [0.    1.   ]\n",
      " [0.96  0.04 ]\n",
      " [0.399 0.601]\n",
      " [0.972 0.028]\n",
      " [0.636 0.364]\n",
      " [0.972 0.028]\n",
      " [0.014 0.986]\n",
      " [0.057 0.943]\n",
      " [0.973 0.027]\n",
      " [0.933 0.067]\n",
      " [0.96  0.04 ]\n",
      " [0.015 0.985]\n",
      " [0.704 0.296]\n",
      " [0.    1.   ]\n",
      " [0.956 0.044]\n",
      " [0.979 0.021]\n",
      " [0.69  0.31 ]\n",
      " [0.997 0.003]\n",
      " [0.002 0.998]\n",
      " [0.014 0.986]\n",
      " [0.954 0.046]\n",
      " [0.001 0.999]\n",
      " [0.947 0.053]\n",
      " [0.922 0.078]\n",
      " [0.422 0.578]\n",
      " [0.066 0.934]\n",
      " [0.944 0.056]\n",
      " [0.971 0.029]\n",
      " [0.    1.   ]\n",
      " [0.825 0.175]\n",
      " [0.954 0.046]\n",
      " [0.001 0.999]\n",
      " [0.    1.   ]\n",
      " [0.783 0.217]\n",
      " [0.971 0.029]\n",
      " [0.672 0.328]\n",
      " [0.964 0.036]\n",
      " [0.979 0.021]\n",
      " [0.969 0.031]\n",
      " [0.606 0.394]\n",
      " [0.703 0.297]\n",
      " [0.968 0.032]\n",
      " [0.007 0.993]\n",
      " [0.957 0.043]\n",
      " [0.948 0.052]\n",
      " [0.941 0.059]\n",
      " [0.944 0.056]\n",
      " [0.567 0.433]\n",
      " [0.035 0.965]\n",
      " [0.107 0.893]\n",
      " [0.956 0.044]\n",
      " [0.976 0.024]\n",
      " [0.001 0.999]\n",
      " [0.961 0.039]\n",
      " [0.004 0.996]\n",
      " [0.956 0.044]\n",
      " [0.981 0.019]\n",
      " [0.    1.   ]\n",
      " [0.96  0.04 ]\n",
      " [0.098 0.902]\n",
      " [0.822 0.178]\n",
      " [0.635 0.365]\n",
      " [0.041 0.959]\n",
      " [0.972 0.028]\n",
      " [0.357 0.643]\n",
      " [0.227 0.773]\n",
      " [0.036 0.964]\n",
      " [0.227 0.773]\n",
      " [0.    1.   ]\n",
      " [0.643 0.357]\n",
      " [0.955 0.045]\n",
      " [0.    1.   ]\n",
      " [0.962 0.038]\n",
      " [0.955 0.045]\n",
      " [0.877 0.123]]\n"
     ]
    }
   ],
   "source": [
    "# predicting the test target values based off the trained model\n",
    "predictions = model.predict(test_inputs).round(3)\n",
    "print(predictions)"
   ]
  },
  {
   "cell_type": "code",
   "execution_count": 140,
   "id": "5f57c6aa",
   "metadata": {},
   "outputs": [
    {
     "data": {
      "text/plain": [
       "0"
      ]
     },
     "execution_count": 140,
     "metadata": {},
     "output_type": "execute_result"
    }
   ],
   "source": [
    "# each row list represents an individual passengers probability of survival\n",
    "# position 0 is probability of death, position 1 is probability of surviving\n",
    "# function returns the highest probability for that passenger.\n",
    "np.argmax(predictions[0])"
   ]
  },
  {
   "cell_type": "code",
   "execution_count": 141,
   "id": "8b9cf845",
   "metadata": {},
   "outputs": [],
   "source": [
    "# creating an empty list to store the survival predictions\n",
    "prediction_values = []\n",
    "\n",
    "# looping through the predictions, returning the highest probability value for each passenger \n",
    "# and appending to prediction values list\n",
    "for pred in predictions:\n",
    "    if pred[0] == 1:\n",
    "        prediction_values.append(0)\n",
    "    else:\n",
    "        prediction_values.append(np.argmax(pred))"
   ]
  },
  {
   "cell_type": "code",
   "execution_count": 142,
   "id": "1aa2efc8",
   "metadata": {},
   "outputs": [
    {
     "data": {
      "text/plain": [
       "0      0\n",
       "1      0\n",
       "2      0\n",
       "3      0\n",
       "4      0\n",
       "      ..\n",
       "413    0\n",
       "414    1\n",
       "415    0\n",
       "416    0\n",
       "417    0\n",
       "Length: 418, dtype: int64"
      ]
     },
     "execution_count": 142,
     "metadata": {},
     "output_type": "execute_result"
    }
   ],
   "source": [
    "# converting list to series\n",
    "pd.Series(prediction_values)"
   ]
  },
  {
   "cell_type": "code",
   "execution_count": 143,
   "id": "9d967efa",
   "metadata": {},
   "outputs": [],
   "source": [
    "# creating a dataframe from the test index index for submission\n",
    "submission = pd.read_csv('test_inputs_index.csv', index_col= '0')\n",
    "submission.drop('Unnamed: 0', axis = 1, inplace = True)\n",
    "submission.index.name = 'PassengerId'"
   ]
  },
  {
   "cell_type": "code",
   "execution_count": 144,
   "id": "3bb8258f",
   "metadata": {},
   "outputs": [],
   "source": [
    "# adding the predictions to the submission dataframe\n",
    "submission['Survived'] = prediction_values"
   ]
  },
  {
   "cell_type": "code",
   "execution_count": 145,
   "id": "7fed082f",
   "metadata": {},
   "outputs": [
    {
     "data": {
      "text/html": [
       "<div>\n",
       "<style scoped>\n",
       "    .dataframe tbody tr th:only-of-type {\n",
       "        vertical-align: middle;\n",
       "    }\n",
       "\n",
       "    .dataframe tbody tr th {\n",
       "        vertical-align: top;\n",
       "    }\n",
       "\n",
       "    .dataframe thead th {\n",
       "        text-align: right;\n",
       "    }\n",
       "</style>\n",
       "<table border=\"1\" class=\"dataframe\">\n",
       "  <thead>\n",
       "    <tr style=\"text-align: right;\">\n",
       "      <th></th>\n",
       "      <th>Survived</th>\n",
       "    </tr>\n",
       "    <tr>\n",
       "      <th>PassengerId</th>\n",
       "      <th></th>\n",
       "    </tr>\n",
       "  </thead>\n",
       "  <tbody>\n",
       "    <tr>\n",
       "      <th>892</th>\n",
       "      <td>0</td>\n",
       "    </tr>\n",
       "    <tr>\n",
       "      <th>893</th>\n",
       "      <td>0</td>\n",
       "    </tr>\n",
       "    <tr>\n",
       "      <th>894</th>\n",
       "      <td>0</td>\n",
       "    </tr>\n",
       "    <tr>\n",
       "      <th>895</th>\n",
       "      <td>0</td>\n",
       "    </tr>\n",
       "    <tr>\n",
       "      <th>896</th>\n",
       "      <td>0</td>\n",
       "    </tr>\n",
       "    <tr>\n",
       "      <th>...</th>\n",
       "      <td>...</td>\n",
       "    </tr>\n",
       "    <tr>\n",
       "      <th>1305</th>\n",
       "      <td>0</td>\n",
       "    </tr>\n",
       "    <tr>\n",
       "      <th>1306</th>\n",
       "      <td>1</td>\n",
       "    </tr>\n",
       "    <tr>\n",
       "      <th>1307</th>\n",
       "      <td>0</td>\n",
       "    </tr>\n",
       "    <tr>\n",
       "      <th>1308</th>\n",
       "      <td>0</td>\n",
       "    </tr>\n",
       "    <tr>\n",
       "      <th>1309</th>\n",
       "      <td>0</td>\n",
       "    </tr>\n",
       "  </tbody>\n",
       "</table>\n",
       "<p>418 rows × 1 columns</p>\n",
       "</div>"
      ],
      "text/plain": [
       "             Survived\n",
       "PassengerId          \n",
       "892                 0\n",
       "893                 0\n",
       "894                 0\n",
       "895                 0\n",
       "896                 0\n",
       "...               ...\n",
       "1305                0\n",
       "1306                1\n",
       "1307                0\n",
       "1308                0\n",
       "1309                0\n",
       "\n",
       "[418 rows x 1 columns]"
      ]
     },
     "execution_count": 145,
     "metadata": {},
     "output_type": "execute_result"
    }
   ],
   "source": [
    "submission"
   ]
  },
  {
   "cell_type": "code",
   "execution_count": 146,
   "id": "6ad6fe67",
   "metadata": {},
   "outputs": [
    {
     "data": {
      "text/plain": [
       "136"
      ]
     },
     "execution_count": 146,
     "metadata": {},
     "output_type": "execute_result"
    }
   ],
   "source": [
    "# calculating the total number of passengers predicted to survive\n",
    "submission['Survived'].sum()"
   ]
  },
  {
   "cell_type": "code",
   "execution_count": 147,
   "id": "f183bd94",
   "metadata": {},
   "outputs": [],
   "source": [
    "# saving submission dataframe as a csv, for submission on kaggle\n",
    "submission.to_csv('Submission.csv')"
   ]
  }
 ],
 "metadata": {
  "kernelspec": {
   "display_name": "py3-TF2.0",
   "language": "python",
   "name": "py3-tf2.0"
  },
  "language_info": {
   "codemirror_mode": {
    "name": "ipython",
    "version": 3
   },
   "file_extension": ".py",
   "mimetype": "text/x-python",
   "name": "python",
   "nbconvert_exporter": "python",
   "pygments_lexer": "ipython3",
   "version": "3.7.13"
  }
 },
 "nbformat": 4,
 "nbformat_minor": 5
}
